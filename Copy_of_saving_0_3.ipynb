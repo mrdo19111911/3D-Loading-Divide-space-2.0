{
  "nbformat": 4,
  "nbformat_minor": 0,
  "metadata": {
    "colab": {
      "name": "Copy of  saving 0.3.ipynb",
      "provenance": [],
      "collapsed_sections": [],
      "authorship_tag": "ABX9TyMHH1NKw8hfb2cc8WBr20MX",
      "include_colab_link": true
    },
    "kernelspec": {
      "name": "python3",
      "display_name": "Python 3"
    },
    "language_info": {
      "name": "python"
    }
  },
  "cells": [
    {
      "cell_type": "markdown",
      "metadata": {
        "id": "view-in-github",
        "colab_type": "text"
      },
      "source": [
        "<a href=\"https://colab.research.google.com/github/mrdo19111911/3D-Loading-Divide-space-2.0/blob/main/Copy_of_saving_0_3.ipynb\" target=\"_parent\"><img src=\"https://colab.research.google.com/assets/colab-badge.svg\" alt=\"Open In Colab\"/></a>"
      ]
    },
    {
      "cell_type": "code",
      "execution_count": null,
      "metadata": {
        "id": "hmnWq1pw_l5a"
      },
      "outputs": [],
      "source": [
        "import math\n",
        "import numpy as  np\n",
        "import random as rd\n",
        "import matplotlib.pyplot as plt \n",
        "import time\n",
        "import numba\n",
        "from numba import njit"
      ]
    },
    {
      "cell_type": "code",
      "source": [
        "from matplotlib.pyplot import figure\n"
      ],
      "metadata": {
        "id": "1r0sIV6PJW-G"
      },
      "execution_count": null,
      "outputs": []
    },
    {
      "cell_type": "code",
      "source": [
        "n =150\n",
        "location  = np.random.randint( 0, 1000, (n, 2))\n",
        "figure(figsize=(8, 6), dpi=80)\n",
        "\n",
        "for i in range(n):\n",
        "    plt.plot(*location[i], 'ro')\n",
        "capacity = 10"
      ],
      "metadata": {
        "colab": {
          "base_uri": "https://localhost:8080/",
          "height": 413
        },
        "id": "U0vW7ZSC_4_n",
        "outputId": "a6a79378-0d1f-4651-dc7d-30acbd24418e"
      },
      "execution_count": null,
      "outputs": [
        {
          "output_type": "display_data",
          "data": {
            "text/plain": [
              "<Figure size 640x480 with 1 Axes>"
            ],
            "image/png": "[encoded data removed]"
          },
          "metadata": {
            "needs_background": "light"
          }
        }
      ]
    },
    {
      "cell_type": "code",
      "source": [
        "def check_feasibility_of_route( route):\n",
        "    if len(route)> capacity:\n",
        "        return False \n",
        "    return True\n",
        "\n"
      ],
      "metadata": {
        "id": "fHbAZChKDGcS"
      },
      "execution_count": null,
      "outputs": []
    },
    {
      "cell_type": "code",
      "source": [
        "@njit\n",
        "def create_DM( location):\n",
        "    DM = np.empty( (n, n), np.int_)\n",
        "    for i in range(n):\n",
        "        for j in range(n):\n",
        "            DM[i,j]  = round( ((location[i,0]-location[j,0])**2+ (location[i,1]-location[j,1])**2)**0.5)\n",
        "    return DM\n",
        "DM = create_DM( location)\n",
        "DM"
      ],
      "metadata": {
        "colab": {
          "base_uri": "https://localhost:8080/"
        },
        "id": "xtBbgdEQASjV",
        "outputId": "3b83db5a-4a51-4df0-b4e2-0a61471cea88"
      },
      "execution_count": null,
      "outputs": [
        {
          "output_type": "execute_result",
          "data": {
            "text/plain": [
              "array([[   0,  414,  706, ...,  724, 1089,  787],\n",
              "       [ 414,    0,  672, ...,  773,  731,  373],\n",
              "       [ 706,  672,    0, ...,  155,  758,  861],\n",
              "       ...,\n",
              "       [ 724,  773,  155, ...,    0,  912,  998],\n",
              "       [1089,  731,  758, ...,  912,    0,  519],\n",
              "       [ 787,  373,  861, ...,  998,  519,    0]])"
            ]
          },
          "metadata": {},
          "execution_count": 73
        }
      ]
    },
    {
      "cell_type": "code",
      "source": [
        "\n"
      ],
      "metadata": {
        "id": "3axoosmVBDyr"
      },
      "execution_count": null,
      "outputs": []
    },
    {
      "cell_type": "code",
      "source": [
        "\n"
      ],
      "metadata": {
        "id": "u7eb1TyUBjsh"
      },
      "execution_count": null,
      "outputs": []
    },
    {
      "cell_type": "code",
      "source": [
        ""
      ],
      "metadata": {
        "id": "J1_cOkJHB2Fu"
      },
      "execution_count": null,
      "outputs": []
    },
    {
      "cell_type": "code",
      "source": [
        ""
      ],
      "metadata": {
        "id": "MGDlkUC_arJR"
      },
      "execution_count": null,
      "outputs": []
    },
    {
      "cell_type": "markdown",
      "source": [
        "S5 = width---> diametter cuar nghiem max\n",
        "S6 =  average. \n"
      ],
      "metadata": {
        "id": "BTyVA6mQbEOU"
      }
    },
    {
      "cell_type": "code",
      "source": [
        "# def  combine_route( solution,i,j):\n",
        "#     new_route = solution[i]+ solution[j]\n",
        "#     if i>j: \n",
        "#         sm=j\n",
        "#         bg =i\n",
        "#     else:\n",
        "#         sm =i\n",
        "#         bg = j\n",
        "#     new_solution =  solution[:sm]+ solution[sm+1:bg]+ solution[ bg+1:] +[new_route]\n",
        "#     return new_solution\n",
        "\n",
        "\n",
        "\n",
        "\n"
      ],
      "metadata": {
        "id": "hI-3lX66DY9V"
      },
      "execution_count": null,
      "outputs": []
    },
    {
      "cell_type": "code",
      "source": [
        "\n",
        "def draw(solution, location):\n",
        "    figure(figsize=(8, 6), dpi=180)\n",
        "    plt.plot(*location[0], \"rs\")\n",
        "    for i in range(len(location)):\n",
        "        plt.plot(*location[i], \"bo\", markersize =1)\n",
        "    for trip in solution:\n",
        "        \n",
        "        \n",
        "        trip_all = trip\n",
        "        if len(trip_all)==0:\n",
        "            continue\n",
        "        x= sum([location[trip_all[i]][0]  for i in range(len(trip_all))  ])/ len(trip_all)\n",
        "        y= sum([location[trip_all[i]][1]  for i in range(len(trip_all)) ])/ len(trip_all)\n",
        "        plt.text(x,y, len(trip_all))\n",
        "        k= len(trip_all)\n",
        "\n",
        "        for i in range(k):\n",
        "            plt.plot( [location[trip_all[i]][0],  location[trip_all[(i+1)%k]][0] ], [location[trip_all[i]][1],  location[trip_all[(i+1)%k]][1] ], 'b'  ) "
      ],
      "metadata": {
        "id": "1Sc4hdEHawM9"
      },
      "execution_count": null,
      "outputs": []
    },
    {
      "cell_type": "code",
      "source": [
        "def cost(route):\n",
        "    total =0\n",
        "    trip = [0]+ route+[0]\n",
        "    for i in range(len(trip)-1):\n",
        "        total+= DM[trip[i], trip[i+1]]\n",
        "    return total\n",
        "def cost_solution(solution):\n",
        "    total = 0\n",
        "    for trip in solution:\n",
        "        total += cost(trip)\n",
        "    \n",
        "    return total+ 10000*len(solution)\n",
        "def savingCW(DM, solution, saving, D_ij_coef=0.7, size_coef= 0.1, S5_coef= 0.7 ):\n",
        "\n",
        "\n",
        "    saving_by_element  = []\n",
        "    for i in range(n):\n",
        "        temp = []\n",
        "        for j in range(n):\n",
        "            temp.append( [j, saving[i,j]])\n",
        "            temp.sort(key = lambda x: -x[1])\n",
        "\n",
        "        saving_by_element.append(temp)\n",
        "\n",
        "\n",
        "    def compute_best_saving( data, k, solution):\n",
        "\n",
        "        saving_pair = [ ]\n",
        "        pivot  = 0\n",
        "        already_touch_route = []\n",
        "        while True:\n",
        "            if pivot== len(data ):\n",
        "                break\n",
        "            if len(saving_pair)== k :\n",
        "                break\n",
        "            if data[pivot][0] not in already_touch_route and  data[pivot][1] not in already_touch_route :\n",
        "                #  saving vi chua dung cham toi.\n",
        "                # ...\n",
        "                # step1: add vao already_touch_route\n",
        "                already_touch_route.append( data[pivot][0])\n",
        "                already_touch_route.append( data[pivot][1])\n",
        "                # step2: cho vao saving pair\n",
        "                saving_pair.append( data[pivot])\n",
        "            else: \n",
        "                pivot +=1\n",
        "        # print(saving_pair)\n",
        "        return saving_pair\n",
        "\n",
        "\n",
        "    def comp_sorted_saving(solution):\n",
        "        saving_list = []\n",
        "        for i in range(len(solution)):\n",
        "            for j in range(len(solution)):\n",
        "                if i==j:\n",
        "                    continue\n",
        "                first_node_route1 =  solution[i][0]\n",
        "                first_node_route2 =  solution[j][0]\n",
        "                last_node_route1 =  solution[i][-1]\n",
        "                last_node_route2 =  solution[j][-1]\n",
        "                sav_i_j  = saving[last_node_route1, first_node_route2] + round( size_coef*(len(solution[i])+len(solution[j])) * DM[0,first_node_route1 ])\n",
        "                all = solution[i] + solution[j] \n",
        "                A= [DM[x,y] for x in  solution[i]  for y in  solution[j]   ]\n",
        "                S5 = max(A)\n",
        "\n",
        "                max_diamenter= S5\n",
        "                if check_feasibility_of_route(solution[i]+ solution[j] ):\n",
        "                    saving_list.append(  np.array([ i, j, sav_i_j - round(S5_coef* max_diamenter)] ))\n",
        "        saving_list.sort(key= lambda y: -y[2])\n",
        "        return saving_list\n",
        "\n",
        "    def LS(route):\n",
        "        this_cost = cost(route)\n",
        "        for _ in range(1000):\n",
        "            i= rd.randint(0,len(route))\n",
        "            j= rd.randint(0,len(route))\n",
        "            if i>=j:\n",
        "                continue\n",
        "            X= route[i:j]\n",
        "            X=X[::-1]\n",
        "            new_route = route[:i]+X+route[j:]\n",
        "            new_cost = cost(new_route)\n",
        "            if new_cost<this_cost:\n",
        "                route= new_route\n",
        "                this_cost =  new_cost\n",
        "\n",
        "        return route\n",
        "    def  combine_route_pair( solution,saving_pair):\n",
        "        new_solution = [  ]\n",
        "        in_used =  []\n",
        "        for pair in saving_pair:\n",
        "            i = pair[0]\n",
        "            j = pair[1]\n",
        "\n",
        "            new_route = solution[i]+ solution[j]\n",
        "            new_route= LS(new_route)\n",
        "\n",
        "            new_solution.append( new_route)\n",
        "            in_used.append( i)\n",
        "            in_used.append( j)\n",
        "\n",
        "            \n",
        "\n",
        "        for i in range(len(solution)):\n",
        "            if i not in in_used:\n",
        "                new_solution.append( solution[i])\n",
        "        return new_solution\n",
        "    data =  comp_sorted_saving(solution)\n",
        "    saving_pair= compute_best_saving( data,1, solution)\n",
        "  \n",
        "    solution =  combine_route_pair( solution,saving_pair)\n",
        "    \n",
        "    return solution"
      ],
      "metadata": {
        "id": "RdsifAn2auSd"
      },
      "execution_count": null,
      "outputs": []
    },
    {
      "cell_type": "code",
      "source": [
        "def ML( D_ij_coef=0.7, size_coef= 0.1, S5_coef= 0.7 ):\n",
        "    solution  = []\n",
        "    for i in range(n):\n",
        "        if i > 0:\n",
        "            solution.append(  [ i])\n",
        "    saving = np.empty( (n,n), np.int_)\n",
        "    for i in range(n):\n",
        "        for j in range(n):\n",
        "            saving[i, j]  = DM[0, i]+ DM[j,0]- round(DM[i,j]*D_ij_coef) # uwu tieen nghiem xa\n",
        "            if i==j:\n",
        "                saving[i, j] =0\n",
        "\n",
        "    for i in range(300):\n",
        "        old_solution = solution\n",
        "\n",
        "        solution = savingCW(DM, solution, saving, D_ij_coef=0.7, size_coef= 0.1, S5_coef= 0.7 )\n",
        "    \n",
        "\n",
        "        # if i%5==0:\n",
        "            \n",
        "        if solution==old_solution:\n",
        "            # draw(solution, location)\n",
        "            # plt.show()\n",
        "            \n",
        "            break\n",
        "    draw(solution, location)\n",
        "    # if len(saving_pair)==0:\n",
        "    #     break\n",
        "    plt.show()\n",
        "    return cost_solution(solution)"
      ],
      "metadata": {
        "id": "rdhi1xK8K3lp"
      },
      "execution_count": null,
      "outputs": []
    },
    {
      "cell_type": "code",
      "source": [
        "final_data = []\n",
        "coef= []\n",
        "best_cost = 1000000000000\n",
        "for i in range(10):\n",
        "    for j in range(10):\n",
        "        for k in range(10):\n",
        "            result = ML( D_ij_coef=(i+1)/10, size_coef=(j+1)/10, S5_coef= (k+1)/10 )\n",
        "            if best_cost>result:\n",
        "                best_cost = result\n",
        "                ceof =[i,j,k]\n",
        "                print(ceof, best_cost)\n",
        "            final_data.append( [i,j,k, result])"
      ],
      "metadata": {
        "id": "GhcPx49kEMIY"
      },
      "execution_count": null,
      "outputs": []
    },
    {
      "cell_type": "markdown",
      "source": [
        "\n",
        "No S5\n"
      ],
      "metadata": {
        "id": "kz4w0pKGcvBX"
      }
    },
    {
      "cell_type": "code",
      "source": [
        ""
      ],
      "metadata": {
        "id": "TYqcUioOfp7L"
      },
      "execution_count": null,
      "outputs": []
    }
  ]
}