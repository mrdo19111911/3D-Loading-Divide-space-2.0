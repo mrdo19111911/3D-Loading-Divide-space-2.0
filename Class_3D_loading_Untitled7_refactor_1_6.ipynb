{
  "nbformat": 4,
  "nbformat_minor": 0,
  "metadata": {
    "colab": {
      "name": " Class 3D loading Untitled7-refactor 1-6.ipynb",
      "provenance": [],
      "collapsed_sections": [],
      "include_colab_link": true
    },
    "kernelspec": {
      "name": "python3",
      "display_name": "Python 3"
    },
    "language_info": {
      "name": "python"
    }
  },
  "cells": [
    {
      "cell_type": "markdown",
      "metadata": {
        "id": "view-in-github",
        "colab_type": "text"
      },
      "source": [
        "<a href=\"https://colab.research.google.com/github/mrdo19111911/3D-Loading-Divide-space-2.0/blob/main/Class_3D_loading_Untitled7_refactor_1_6.ipynb\" target=\"_parent\"><img src=\"https://colab.research.google.com/assets/colab-badge.svg\" alt=\"Open In Colab\"/></a>"
      ]
    },
    {
      "cell_type": "markdown",
      "source": [
        "# 1 import"
      ],
      "metadata": {
        "id": "86H7d4Wb64X5"
      }
    },
    {
      "cell_type": "code",
      "source": [
        "# trả ra kết quả 3D loading\n",
        "\n",
        "\n",
        "\n",
        "\n",
        "# ITEM_L_ID  =  0\n",
        "# ITEM_W_ID  =  1\n",
        "# ITEM_H_ID  =  2\n",
        "# ITEM_NUM  =  3\n",
        "# ITEM_ROTATE =  4\n",
        "# ITEM_POS_L_ID  = 5\n",
        "# ITEM_POS_W_ID  =  6\n",
        "# ITEM_POS_H_ID  = 7\n",
        "# ITEM_ID  =  8"
      ],
      "metadata": {
        "id": "6dfQFp-4m0UU"
      },
      "execution_count": null,
      "outputs": []
    },
    {
      "cell_type": "markdown",
      "source": [
        "# Main"
      ],
      "metadata": {
        "id": "mWHxF-yrRcqe"
      }
    },
    {
      "cell_type": "code",
      "execution_count": null,
      "metadata": {
        "id": "8mrb1VVn54iN",
        "colab": {
          "base_uri": "https://localhost:8080/",
          "height": 35
        },
        "outputId": "c9a8e20e-629f-4fbe-f793-24e078f52862"
      },
      "outputs": [
        {
          "output_type": "display_data",
          "data": {
            "application/javascript": [
              "IPython.notebook.set_autosave_interval(60000)"
            ]
          },
          "metadata": {}
        },
        {
          "output_type": "stream",
          "name": "stdout",
          "text": [
            "Autosaving every 60 seconds\n"
          ]
        }
      ],
      "source": [
        "import math\n",
        "import numpy as np\n",
        "import random\n",
        "import matplotlib.pyplot as plt\n",
        "from matplotlib.pyplot import figure\n",
        "import numba\n",
        "from numba import njit\n",
        "import random as rd\n",
        "import time\n",
        "import graphviz\n",
        "\n",
        "import plotly.graph_objects as go\n",
        "import numpy as np\n",
        "\n",
        "from numba.typed import List\n",
        "%autosave 60\n"
      ]
    },
    {
      "cell_type": "code",
      "source": [
        "\n",
        "\n",
        "@njit (cache= True)\n",
        "def compute_number_of_fit_with_rotation(bin_size,item_size):  #M_lwh, M_l, M_W, M_h, best_rotate\n",
        "    best_num_item  =  -3\n",
        "    best_rotation = -1\n",
        "    # infor_of_best_fit  =   np.empty((4), np.int_)\n",
        "    \n",
        "    result  =   np.empty((5), np.int_)\n",
        "    OZ_rotation_lock = item_size[9]\n",
        "    number_of_posible_rotation = 6\n",
        "    if OZ_rotation_lock != 0:\n",
        "        number_of_posible_rotation = 2\n",
        "\n",
        "    for rotation in range(number_of_posible_rotation):\n",
        "        infor_of_fit  =  compute_number_of_fit( bin_size, compute_rotate_item_size(item_size[0:3],rotation, OZ_rotation_lock))\n",
        "        num_item =  infor_of_fit[0]\n",
        "        if num_item>best_num_item:\n",
        "            best_num_item  =   num_item\n",
        "            best_rotation  =  rotation\n",
        "            result[0]  =   num_item\n",
        "\n",
        "            result[1] =  infor_of_fit[1]\n",
        "            result[2] =  infor_of_fit[2]\n",
        "            result[3] =  infor_of_fit[3]\n",
        "            result[4] =  best_rotation\n",
        "\n",
        "            # result[5]  =  best_rotation\n",
        "            # print(result)\n",
        "        #     M_lwh, M_l, M_w, M_h, best_rotate =  temp[0], temp[1], temp[2], temp[3]\n",
        "    return result\n",
        "\n",
        "@njit(cache= True)\n",
        "def compute_box(bin_size, item_size, best_fit, item_size_rotate):#decompose box, input: [size,position]\n",
        "    # print (bin_size)\n",
        "    box =  np.empty((6, len(bin_size)), np.int_)\n",
        "    for i in range(6):\n",
        "        box[i]= np.copy(bin_size)\n",
        "\n",
        "    M_lwh, M_l, M_w, M_h, best_rotate  =  best_fit[0], best_fit[1], best_fit[2], best_fit[3], best_fit[4]\n",
        "    # item_size_rotate  =  compute_rotate_item_size(item_size, best_rotate)\n",
        "    item_l  =  item_size_rotate[0]\n",
        "    item_w  =  item_size_rotate[1]\n",
        "    item_h  =  item_size_rotate[2]\n",
        "    item_num  =  item_size_rotate[3]\n",
        "\n",
        "    # print(item_size_rotate)\n",
        "    # print(best_fit)\n",
        "    if M_lwh == 0:\n",
        "        return box\n",
        "    bin_l  =  bin_size[0]\n",
        "    bin_w =  bin_size[1]\n",
        "    bin_h  = bin_size[2]\n",
        "    bin_pos_l  =  bin_size[3]\n",
        "    bin_pos_w =  bin_size[4]\n",
        "    bin_pos_h  = bin_size[5]\n",
        "    # print(\"1\")\n",
        "    temp_num  =  item_num\n",
        "    if temp_num>M_lwh:\n",
        "        temp_num =  M_lwh\n",
        "    OQ =  bin_l\n",
        "    N_l  =  math.ceil(temp_num/(M_w* M_h)) #8\n",
        "    num_item_front = temp_num- (N_l-1)*M_w* M_h #20-2*4*2\n",
        "    OF  =  N_l*item_l\n",
        "    # print(N_l)\n",
        "    # print('need to compute')\n",
        "    HI  =  M_w*item_w\n",
        "    IJ  =  bin_w-HI\n",
        "    JP  =   math.floor(temp_num/(M_w* M_h))*item_l\n",
        "    num_colum_face =  math.ceil(num_item_front/M_h)\n",
        "    FA  = num_colum_face*item_w\n",
        "    AB  =  (M_h-(num_colum_face*M_h-num_item_front))*item_h\n",
        "    num_box_AB  =   num_item_front%(M_h)\n",
        "    FC =  math.floor(num_item_front/M_h )*item_w\n",
        "    CA  =  FA-FC\n",
        "\n",
        "    # print(num_box_AB)\n",
        "    # print(\"OF\", OF,\"FC\", FC,\"CA\",\"FA\",FA, CA, \"AB\", AB)\n",
        "    FD =  M_h*item_h\n",
        "    box[0][0:7]  =  [ bin_l-OF, bin_w, bin_h,bin_pos_l+ OF, bin_pos_w, bin_pos_h,0]\n",
        "    box[1][0:7]   =  [ item_l, bin_w-FA, bin_h, bin_pos_l + OF- item_l,bin_pos_w+ FA, bin_pos_h,1]\n",
        "    box[2][0:7]   =  [ item_l, FA-FC, bin_h- AB, bin_pos_l+ OF-item_l, bin_pos_w + FC,AB+bin_pos_h,2]\n",
        "\n",
        "    box[3] [0:7]  =  [ item_l, FC, bin_h- FD, bin_pos_l + OF- item_l, bin_pos_w, FD+bin_pos_h,3]\n",
        "\n",
        "\n",
        "    box[4] [0:7]  =  [ OF- item_l, bin_w-HI, bin_h, bin_pos_l+0,bin_pos_w+HI, bin_pos_h,4]\n",
        "    box[5] [0:7]  =  [OF- item_l, HI, bin_h-FD, bin_pos_l+0, bin_pos_w, FD +bin_pos_h,5]\n",
        "\n",
        "\n",
        "    return box\n",
        "\n",
        "def move_item_to_prepack(bin_size, item_size,number_of_best_fit, pre_packed_item):\n",
        "    # print(\"\\t\\t\",  \"pre_packed_item\", pre_packed_item)\n",
        "    item_size_pack= np.copy(item_size)\n",
        "    item_size_pack[3] = min(item_size[3] , number_of_best_fit[0])\n",
        "    item_size[3]= item_size[3]- item_size_pack[3]\n",
        "    pre_packed_item.append([bin_size, item_size_pack, item_size_pack[3], number_of_best_fit])\n",
        " \n",
        "\n",
        "\n",
        "class Helper:\n",
        "    def __init__(self):\n",
        "        pass\n",
        "\n",
        "    @staticmethod\n",
        "    @njit (cache= True)\n",
        "    # Cần viết lại hàm này., \n",
        "    def decompose_bin(bin_size, item_size) :\n",
        "        best_fit  =  compute_number_of_fit_with_rotation(bin_size,item_size)\n",
        "        # number of item  item_list[i][3] \n",
        "        # print(best_fit)\n",
        "        OZ_rotation_lock= item_size[9]\n",
        "\n",
        "        new_rotate_size  =  compute_rotate_item_size(item_size,best_fit[4], OZ_rotation_lock )\n",
        "        M_lwh =  new_rotate_size[0]\n",
        "        M_l = new_rotate_size[1]\n",
        "        M_w =  new_rotate_size[2]\n",
        "        M_h =  new_rotate_size[3] \n",
        "        best_rotate =  new_rotate_size[4]\n",
        "        # print(new_rotate_size)\n",
        "        # compute_rotate_item_size(item_size, best_rotate)    \n",
        "        boxes  =  compute_box(bin_size, item_size, best_fit,new_rotate_size )\n",
        "        if item_size[3] == 0:\n",
        "            # print('emtp')\n",
        "            boxes =  np.empty((6, len(bin_size)), np.int_)\n",
        "            for i in range(6):\n",
        "\n",
        "                for j in range(len(bin_size)):\n",
        "                    if i==0:\n",
        "                        boxes[0][j] = bin_size[j]\n",
        "                    else:\n",
        "                        boxes[i][j]=0\n",
        "            boxes[0] = bin_size\n",
        "        return boxes\n",
        "\n",
        "helper = Helper()"
      ],
      "metadata": {
        "id": "JMfl_qSjbBFi"
      },
      "execution_count": null,
      "outputs": []
    },
    {
      "cell_type": "code",
      "source": [
        "@njit (cache= True)\n",
        "def compute_rotate_item_size(size, rotate, OZ_rotation_lock): # return newsize after rotate. =0 1\n",
        "    ROTATE_FIX =  np.array([  [0,1,2],  [1,0,2], [0,2,1], [1,2,0], [2,1,0],[2,0,1]], np.int_)\n",
        "    ROTATE_FIX_WITH_OZ_LOCK =  np.array([  [0,1,2],  [1,0,2]], np.int_)\n",
        "    # OZ_rotation_lock = size[9]\n",
        "    if OZ_rotation_lock ==0:\n",
        "\n",
        "        new  =   ROTATE_FIX[rotate]\n",
        "    else:\n",
        "\n",
        "        new  =   ROTATE_FIX_WITH_OZ_LOCK[rotate]\n",
        "    # aa  =   [size[new[0]], size[new[1]], size[new[2]]]\n",
        "    new_size  =   np.concatenate((np.array([size[new[0]], size[new[1]], size[new[2]]], np.int_) , size[3:]   ))\n",
        "    return new_size\n",
        "@njit (cache= True)\n",
        "def compute_number_of_fit(bin_size,item_size): #find number of fit of an item without rotate.\n",
        "    M_l = math.floor(bin_size[0]/item_size[0])\n",
        "    M_w = math.floor(bin_size[1]/item_size[1])\n",
        "    M_h = math.floor(bin_size[2]/item_size[2])\n",
        "    result  =  np.empty((4), np.int_)\n",
        "    result[0] =  M_h*M_l*M_w\n",
        "    result[1] =  M_l\n",
        "    result[2] =  M_w\n",
        "    result[3] =  M_h\n",
        "    return result\n",
        "\n",
        "@njit (cache= True)\n",
        "def insert___(bin_size, item_size, mylist, number_item, number_of_best_fit):\n",
        "    # if bin_size[3] ==3790:\n",
        "    #     print(\"fuck\")\n",
        "    ITEM_L_ID  =  0\n",
        "    ITEM_W_ID  =  1\n",
        "    ITEM_H_ID  =  2\n",
        "\n",
        "    ITEM_NUM  =  3\n",
        "    ITEM_ROTATE =  4\n",
        "\n",
        "    ITEM_POS_L_ID  = 5\n",
        "    ITEM_POS_W_ID  =  6\n",
        "    ITEM_POS_H_ID  = 7\n",
        "\n",
        "    BIN_L_ID  =  0\n",
        "    BIN_W_ID  =  1\n",
        "    BIN_H_ID  =  2\n",
        "    BIN_POS_L_ID  = 3\n",
        "    BIN_POS_W_ID  =  4\n",
        "    BIN_POS_H_ID  =  5\n",
        "    BIN_ID  =  6\n",
        "    # number_of_best_fit = compute_number_of_fit_with_rotation( bin_size,item_size)\n",
        "    M_lwh= number_of_best_fit[0]\n",
        "    M_l= number_of_best_fit[1]\n",
        "    M_w= number_of_best_fit[2]\n",
        "    M_h= number_of_best_fit [3]\n",
        "    best_rotate = number_of_best_fit[4]\n",
        "    # print(\"number_of_best_fit\",number_of_best_fit)\n",
        "    OZ_rotation_lock= item_size[9]\n",
        "    rotate_size = compute_rotate_item_size(item_size, best_rotate, OZ_rotation_lock)\n",
        "    # print(\"rotate_size\", rotate_size)\n",
        "    # number_item  =  item_size[ITEM_NUM] \n",
        "    if  number_item> M_lwh:\n",
        "        number_item = M_lwh\n",
        "    # item_size[3] =  item_size[3]- number_item\n",
        "    num_of_face= math.floor(number_item/(M_w*M_h)) \n",
        "    # số lát bánh mỳ\n",
        "    for i in range(num_of_face):\n",
        "        for j in range(M_w):\n",
        "            a= rotate_size[ITEM_L_ID]\n",
        "            b= rotate_size[ITEM_W_ID]\n",
        "            c= rotate_size[ITEM_H_ID]*M_h\n",
        "\n",
        "            d= M_h\n",
        "            e= best_rotate #item_size[ITEM_ROTATE]\n",
        "\n",
        "            f= bin_size[BIN_POS_L_ID]+ i*rotate_size[ITEM_L_ID]\n",
        "            g= bin_size[BIN_POS_W_ID]+ j*rotate_size[ITEM_W_ID]\n",
        "            h= bin_size[BIN_POS_H_ID]\n",
        "\n",
        "            s= rotate_size[4]\n",
        "            mylist.append( np.array([a, b, c, d, e, f, g, h, s], np.int_))\n",
        "\n",
        "    left_over_of_face= number_item%(M_w*M_h)\n",
        "    num_of_column = math.floor(left_over_of_face/M_h)\n",
        "    for j in range(num_of_column):\n",
        "\n",
        "        a= rotate_size[ITEM_L_ID]\n",
        "        b= rotate_size[ITEM_W_ID]\n",
        "        c= rotate_size[ITEM_H_ID] *M_h\n",
        "\n",
        "        d= M_h\n",
        "        e= best_rotate #item_size[ITEM_ROTATE]\n",
        "\n",
        "        f= bin_size[BIN_POS_L_ID]+ num_of_face*rotate_size[ITEM_L_ID]\n",
        "        # if f==    3790:\n",
        "        #     print(\"fuck_________________________\")\n",
        "        #     print(bin_size[BIN_POS_L_ID], num_of_face, item_size[ITEM_L_ID])\n",
        "        g= bin_size[BIN_POS_W_ID]+ j*rotate_size[ITEM_W_ID]\n",
        "        h= bin_size[BIN_POS_H_ID]\n",
        "\n",
        "        s= rotate_size[4]\n",
        "        mylist.append( np.array([a, b, c, d, e, f, g, h, s], np.int_))\n",
        "\n",
        "    left_over_of_column = number_item % M_h\n",
        "    if left_over_of_column>0:\n",
        "        a= rotate_size[ITEM_L_ID]\n",
        "        b= rotate_size[ITEM_W_ID]\n",
        "        c= rotate_size[ITEM_H_ID]*left_over_of_column\n",
        "\n",
        "        d= left_over_of_column\n",
        "        e= best_rotate #item_size[ITEM_ROTATE]\n",
        "\n",
        "        f= bin_size[BIN_POS_L_ID]+ num_of_face*rotate_size[ITEM_L_ID]\n",
        "        g= bin_size[BIN_POS_W_ID]+ num_of_column*rotate_size[ITEM_W_ID]\n",
        "        h= bin_size[BIN_POS_H_ID]\n",
        "\n",
        "        s= rotate_size[4]\n",
        "        mylist.append( np.array([a, b, c, d, e, f, g, h, s], np.int_))\n",
        "\n",
        "    return mylist\n",
        "\n",
        "\n",
        "    \n"
      ],
      "metadata": {
        "id": "d0DX-DLOiVUF"
      },
      "execution_count": null,
      "outputs": []
    },
    {
      "cell_type": "code",
      "source": [
        "# class Constant3D:\n",
        "#     def __init__(self):\n",
        "#         self.ROTATE_FIX =  np.array([  [0,1,2], [0,2,1], [1,0,2],[1,2,0], [2,1,0],[2,0,1]], np.int_)\n",
        "#         self.BIN_L_ID  =  0\n",
        "#         self.BIN_W_ID  =  1\n",
        "#         self.BIN_H_ID  =  2\n",
        "#         self.BIN_POS_L_ID  = 3\n",
        "#         self.BIN_POS_W_ID  =  4\n",
        "#         self.BIN_POS_H_ID  =  5\n",
        "#         self.BIN_ID  =  6\n",
        "\n",
        "#         self.ITEM_L_ID  =  0\n",
        "#         self.ITEM_W_ID  =  1\n",
        "#         self.ITEM_H_ID  =  2\n",
        "#         self.ITEM_NUM  =  3\n",
        "#         self.ITEM_ROTATE =  4\n",
        "#         self.ITEM_POS_L_ID  = 5\n",
        "#         self.ITEM_POS_W_ID  =  6\n",
        "#         self.ITEM_POS_H_ID  = 7\n",
        "#         self.ITEM_ID  =  8\n",
        "#         self.DATA_SIZE = 5    \n",
        "    \n",
        "    \n",
        "class Packing:\n",
        "    def __init__(self, bin_list, item_list):\n",
        "        self.bin_list = bin_list\n",
        "        self.item_list = item_list\n",
        "        self.original_item_list = np.copy(item_list)\n",
        "        self.pre_packed_item = []\n",
        "        self.original_bin_list = np.copy(bin_list)\n",
        "\n",
        "\n",
        "    def pack( self, pre_packed_item, left_over_bin, can_not_pact_bin):\n",
        "        bin_list = self.bin_list\n",
        "        item_list = self.item_list\n",
        "        min_item_dim = min([ min(item[0], item[1],item[2]) for item in item_list])\n",
        "        lock_bin = []\n",
        "        # original_cbm = check_cbm_bin_list(bin_list)\n",
        "        move_bin_to_next_item  = []\n",
        "        \n",
        "        for i in range(len(item_list)):\n",
        "            # print(\"________________\")\n",
        "            # print(\"pack item\", i)\n",
        "            item  =  item_list[i]\n",
        "            # print('item to pack', item)\n",
        "            # print(bin_list)\n",
        "            # print(\"total_cbm\", check_cbm_bin_list(bin_list) + check_cbm_item(pre_packed_item)+check_cbm_bin_list(lock_bin))\n",
        "\n",
        "            count = 0\n",
        "            if len(bin_list )==0:\n",
        "                break\n",
        "            b = len(bin_list )-1\n",
        "            move_bin_to_next_item  = []\n",
        "            while True:\n",
        "                b = len(bin_list )-1\n",
        "\n",
        "                if len(bin_list )==0:\n",
        "                    # print(\"\\t\\t0, hết bin\")\n",
        "                    break       \n",
        "                if b == len(bin_list) or b<0:\n",
        "                    # print(\"\\t\\t1, hết bin\")\n",
        "                    break\n",
        "                # print(\"\\tlen(bin_list)\", len(bin_list))\n",
        "                temp_bin_list = []\n",
        "                # print(\"\\tpack item\",i, \" to bin \",b, \"in\",len(bin_list), \" bins\" )\n",
        "                count= count+1\n",
        "                # bin_list.sort(key= lambda x: -min( [x[0], x[1],x[2] ] ) )\n",
        "                bin_list.sort(key= lambda x: -(x[0]**2-x[2]) )\n",
        "\n",
        "                # err = original_cbm-check_cbm_bin_list(bin_list)-\\\n",
        "                # check_cbm_item(pre_packed_item)- check_cbm_bin_list(lock_bin) - check_cbm_bin_list(move_bin_to_next_item)\n",
        "                # print( \"\\t\",original_cbm/10**9, \"space to be packed\", check_cbm_bin_list(bin_list)/10**9, \"packed cbm\", check_cbm_item(pre_packed_item)/10**9, \"unusable space\",  check_cbm_bin_list(lock_bin)/10**9, check_cbm_bin_list(move_bin_to_next_item)/10**9 )\n",
        "                # # if err!=0:\n",
        "                # #     print(\"error\", err)\n",
        "                \n",
        "                bin = bin_list[b]\n",
        "                # print('\\t\\tbin to bin pack', bin)\n",
        "\n",
        "    # lock_bin\n",
        "                if min(bin[0],bin[1], bin[2] ) < min_item_dim:\n",
        "                    lock_bin.append(bin)\n",
        "                    bin_list.pop(b)\n",
        "                    # print(\"\\t\\t2, không vừa, khóa bin, move to next bin\")\n",
        "                    # bin_list= bin_list+ temp_bin_list\n",
        "                    continue\n",
        "    # move_bin_to_next_item\n",
        "                if item[3] == 0:\n",
        "                    # print(\"\\t\\t3, hết item\")\n",
        "                    move_bin_to_next_item.append(bin)\n",
        "\n",
        "                    bin_list.pop(b)\n",
        "                    # bin_list= bin_list+ temp_bin_list\n",
        "                    break\n",
        "\n",
        "    # move_bin_to_next_item\n",
        "\n",
        "                if min(bin[0], bin[1], bin[2]) < min( [item[0], item[1], item[2] ]) :\n",
        "                    move_bin_to_next_item.append(bin)\n",
        "                    # cai nay, can cho vao next round\n",
        "                    # print(\"\\t\\t4, khong vừa minsize, move to next bin\")\n",
        "                    bin_list.pop(b)\n",
        "                    # bin_list= bin_list+ temp_bin_list\n",
        "\n",
        "                    continue\n",
        "\n",
        "\n",
        "                number_of_best_fit = compute_number_of_fit_with_rotation( bin, item)\n",
        "                number_of_fit  = number_of_best_fit[0]\n",
        "    # move_bin_to_next_item\n",
        "                if number_of_fit == 0:\n",
        "                    move_bin_to_next_item.append(bin)\n",
        "                    \n",
        "                    bin_list.pop(b)\n",
        "                    # print(\"\\t\\t5, khong vừa, move to next bin\")\n",
        "                    # bin_list= bin_list+ move_bin_to_next_item\n",
        "\n",
        "                    continue\n",
        "                else:\n",
        "                    box  =  helper.decompose_bin( bin, item) \n",
        "                    for k in range(len(box)):\n",
        "    # lock_bin\n",
        "                        if min(box[k][0], box[k][1], box[k][2]) <1:\n",
        "                            # lock_bin.append(  box[k])\n",
        "                            continue\n",
        "    # lock_bin\n",
        "                        if min(box[k][0], box[k][1], box[k][2]) < min_item_dim :\n",
        "                            lock_bin.append(  box[k])\n",
        "                            continue\n",
        "\n",
        "                        temp_bin_list.append(box[k])\n",
        "                    move_item_to_prepack(bin, item, number_of_best_fit, pre_packed_item)\n",
        "                    bin_list.pop(b)\n",
        "                    # print(\"\\t\\t6 pack được tối đa\", number_of_fit, \"item, insert bin phụ\", len(temp_bin_list))\n",
        "                    # print(item)\n",
        "                    bin_list= bin_list+ temp_bin_list\n",
        "\n",
        "                    continue\n",
        "                # print(len(bin_list), len(temp_bin_list))\n",
        "            bin_list= bin_list+ move_bin_to_next_item\n",
        "        self.lock_bin= lock_bin\n",
        "        self.bin_list =  bin_list \n",
        "        self.pre_packed_item = pre_packed_item\n",
        "\n",
        "        return     lock_bin, bin_list, pre_packed_item\n",
        "    def decompress(self):\n",
        "        pre_packed_item= self.pre_packed_item\n",
        "        mylist = List()\n",
        "        mylist.append(np.array([0,0,0,0,    0,0,0,0,0], np.int_))\n",
        "        mylist.pop(0)\n",
        "        for bunch in pre_packed_item:\n",
        "            \n",
        "            bin, item, num_item, number_of_best_fit = bunch\n",
        "            mylist = insert___( bin, item, mylist, num_item, number_of_best_fit)\n",
        "        \n",
        "        mylist_final = [ [ item[0],item[1], item[2], item[5], item[6], item[7]] for item in mylist] \n",
        "        self.mylist =  mylist_final\n",
        "        return mylist_final\n",
        "\n",
        "\n",
        "    \n",
        "    def draw_packed_bin(self, bin_size, item_list):\n",
        "        def get_random_color():\n",
        "            return \"#%06x\" % rd.randint(0, 0xFFFFFF)\n",
        "        color_list  =  []\n",
        "        for i in range(1000):\n",
        "            color_list.append(get_random_color())\n",
        "\n",
        "\n",
        "        data  =  []\n",
        "        \n",
        "        data.append(\n",
        "            go.Mesh3d(\n",
        "                x = [0, 0, int(bin_size[0]), int(bin_size[0]), 0, 0, int(bin_size[0]), int(bin_size[0])],\n",
        "                y = [0, int(bin_size[1]), int(bin_size[1]), 0, 0, int(bin_size[1]), int(bin_size[1]), 0],\n",
        "                z = [0, 0, 0, 0, int(bin_size[2]), int(bin_size[2]), int(bin_size[2]), int(bin_size[2])],\n",
        "                # Intensity of each vertex, which will be interpolated and color-coded  \n",
        "                # i, j and k give the vertices of triangles\n",
        "\n",
        "                # i  =  [7, 0, 0, 0, 4, 4, 6, 6, 4, 0, 3, 2],\n",
        "                # j  =  [3, 4, 1, 2, 5, 6, 5, 2, 0, 1, 6, 3],\n",
        "                # k  =  [0, 7, 2, 3, 6, 7, 1, 1, 5, 5, 7, 6],\n",
        "                name = 'y',\n",
        "                showscale = True,\n",
        "                color = \"#555\",\n",
        "                opacity = 0.1\n",
        "            )\n",
        "        )\n",
        "\n",
        "        for index in range(len((item_list))):\n",
        "            item =  item_list[index]\n",
        "            ox_item  =  int(item[3])\n",
        "            oy_item  =  int(item[4])\n",
        "            oz_item  =  int(item[5])\n",
        "\n",
        "            # true_size  =  item.get_dimension()\n",
        "            \n",
        "            extreme_x  =  int(item[0]) + ox_item\n",
        "            extreme_y  =  int(item[1]) + oy_item\n",
        "            extreme_z  =  int(item[2]) + oz_item\n",
        "            # print(oz_item,extreme_x)\n",
        "\n",
        "            data.append(\n",
        "                go.Mesh3d(\n",
        "                    x = [ox_item, ox_item, extreme_x, extreme_x, ox_item, ox_item, extreme_x, extreme_x],\n",
        "                    y = [oy_item, extreme_y, extreme_y, oy_item, oy_item, extreme_y, extreme_y, oy_item],\n",
        "                    z = [oz_item, oz_item, oz_item, oz_item, extreme_z, extreme_z, extreme_z, extreme_z],\n",
        "                    # Intensity of each vertex, which will be interpolated and color-coded  \n",
        "                    # i, j and k give the vertices of triangles\n",
        "                    i  =  [7, 0, 0, 0, 4, 4, 6, 6, 4, 0, 3, 2],\n",
        "                    j  =  [3, 4, 1, 2, 5, 6, 5, 2, 0, 1, 6, 3],\n",
        "                    k  =  [0, 7, 2, 3, 6, 7, 1, 1, 5, 5, 7, 6],\n",
        "                    # name   =    \" %s \" %(item.name) ,\n",
        "                    showscale  =  True,\n",
        "                    # color  = 'red',\n",
        "                    color  =  get_random_color(),\n",
        "                    hovertext  =  \"box \"+str(index),\n",
        "                    opacity = 1, flatshading  =  True\n",
        "                )\n",
        "            )\n",
        "            data.append(go.Scatter3d(x = [0], y = [0], z = [0], mode  =  'markers'))\n",
        "    \n",
        "        fig  =  go.Figure(data)\n",
        "        # fig   =   go.Figure(data = [go.Mesh3d(x = [0], y = [0], z = [0], color = 'lightpink', opacity = 0.50)])\n",
        "        fig.update_layout(\n",
        "            autosize = False,\n",
        "            width = 1300,\n",
        "            height  =  900,\n",
        "            scene_aspectmode  =  'data', \n",
        "            scene_camera  =  dict( eye = dict(x = -2, y = -2, z = -1))\n",
        "            )\n",
        "\n",
        "        fig.show()\n",
        "\n",
        "    def visualize_item(self):\n",
        "        self.draw_packed_bin(self.original_bin_list[0], self.mylist)\n",
        "\n",
        "\n",
        "    @staticmethod\n",
        "    @njit (cache= True)\n",
        "    def compute_number_of_fit(bin_size,item_size): #find number of fit of an item without rotate.\n",
        "        M_l = math.floor(bin_size[0]/item_size[0])\n",
        "        M_w = math.floor(bin_size[1]/item_size[1])\n",
        "        M_h = math.floor(bin_size[2]/item_size[2])\n",
        "        result  =  np.empty((4), np.int_)\n",
        "        result[0] =  M_h*M_l*M_w\n",
        "        result[1] =  M_l\n",
        "        result[2] =  M_w\n",
        "        result[3] =  M_h\n",
        "        return result\n",
        "\n",
        "    "
      ],
      "metadata": {
        "id": "ZuM72htDP_Ax"
      },
      "execution_count": null,
      "outputs": []
    },
    {
      "cell_type": "code",
      "source": [
        ""
      ],
      "metadata": {
        "id": "sSKi6NSHigO8"
      },
      "execution_count": null,
      "outputs": []
    },
    {
      "cell_type": "code",
      "source": [
        "class Bin:\n",
        "    def __init__(self, size):\n",
        "        self.size  = size\n",
        " \n",
        "    # def print(self):\n",
        "        # print(\"size\", self.size)\n",
        "class Item:\n",
        "    def __init__(self, size):\n",
        "        self.size =  size\n",
        "    # def print(self):\n",
        "        # print(\"data\", self.size)\n",
        "\n",
        "\n"
      ],
      "metadata": {
        "id": "INzN0-4H7MKs"
      },
      "execution_count": null,
      "outputs": []
    },
    {
      "cell_type": "code",
      "source": [
        ""
      ],
      "metadata": {
        "id": "QtjnHcHwzFKn"
      },
      "execution_count": null,
      "outputs": []
    },
    {
      "cell_type": "markdown",
      "source": [
        "# Calling "
      ],
      "metadata": {
        "id": "BXRRrQP6zFW5"
      }
    },
    {
      "cell_type": "code",
      "source": [
        "\n",
        "def create_data_model():\n",
        "    bin_list_obj  =  []\n",
        "    bin_list_obj.append(Bin(np.array([5890, 2330,2380, 0, 0, 0,   0, 0], np.int_) ))\n",
        "    # bin_list_obj.append(Bin(np.array([1001, 1001,1001, 0, 0, 0,   0, 0], np.int_) ))\n",
        "    bin_list  = [bin.size for bin in bin_list_obj]\n",
        "    bin_size  =   bin_list[0]\n",
        "    item_list_obj = []\n",
        "    cbm_all_item  = 0\n",
        "    bin_cbm =bin_size[0]*bin_size[1]*bin_size[2]\n",
        "\n",
        "    num_item =0\n",
        "    for i in range(10000):\n",
        "        a,b,c,d = rd.randint(500, 50*i+ 500), rd.randint(500,50*i+500), rd.randint(50,500), 100\n",
        "        # a,b,c,d = 300+3*i, 240-3*i, 315-3*i, 100+i\n",
        "        num_item+=d\n",
        "        cbm_all_item= cbm_all_item + a*b*c*d\n",
        "\n",
        "        item_list_obj.append(Item(np.array([a,b,c,d   ,0, 0, 0, 0,     0, rd.randint(0,1)], np.int_)))\n",
        "        \n",
        "#         self.ITEM_L_ID  =  0\n",
        "#         self.ITEM_W_ID  =  1\n",
        "#         self.ITEM_H_ID  =  2\n",
        "#         self.ITEM_NUM  =  3\n",
        "\n",
        "#         self.ITEM_ROTATE =  4\n",
        "#         self.ITEM_POS_L_ID  = 5\n",
        "#         self.ITEM_POS_W_ID  =  6\n",
        "#         self.ITEM_POS_H_ID  = 7\n",
        "\n",
        "\n",
        "#         self.ITEM_ID  =  8\n",
        "#         self.OZ_LOCK = 9    \n",
        "    \n",
        "        if bin_cbm<cbm_all_item:\n",
        "            break\n",
        "    item_list  =  [item.size for item in item_list_obj]\n",
        "    item_list.sort(key= lambda x: -max([x[0], x[1],x[2]]))\n",
        "    print(num_item)\n",
        "    return bin_list, item_list\n",
        "bin_list, item_list = create_data_model()"
      ],
      "metadata": {
        "id": "M3RzA2qCRgcI",
        "colab": {
          "base_uri": "https://localhost:8080/"
        },
        "outputId": "13a6961f-9e0e-46c3-92a8-d715749ffe9c"
      },
      "execution_count": null,
      "outputs": [
        {
          "output_type": "stream",
          "name": "stdout",
          "text": [
            "300\n"
          ]
        }
      ]
    },
    {
      "cell_type": "markdown",
      "source": [
        "##testing"
      ],
      "metadata": {
        "id": "bDOMX5K_fJiG"
      }
    },
    {
      "cell_type": "code",
      "source": [
        "\n",
        "# packing_problem.compute_rotate_item_size(packing_problem.item_list[0], 3)"
      ],
      "metadata": {
        "id": "wstukaAPSfsk"
      },
      "execution_count": null,
      "outputs": []
    },
    {
      "cell_type": "code",
      "source": [
        "def packing(bin_list, item_list):\n",
        "    bin_list_cbm= bin_list[0][0]*bin_list[0][1]*bin_list[0][2]/10**9\n",
        "    original_item_cbm =sum([s[0]*s[1]*s[2]*s[3] for s in  item_list])/10**9\n",
        "    packing_problem = Packing(bin_list, item_list)\n",
        "    data={}\n",
        "    data['original_bin'] = np.copy(bin_list[0])\n",
        "\n",
        "    pre_packed_item=[]\n",
        "    left_over_bin=[]\n",
        "    can_not_pact_bin=[]\n",
        "\n",
        "    temp_bin_list  =   []\n",
        "    left_over_bin = []\n",
        "    pre_packed_item = []\n",
        "    left_over_item  = []\n",
        "\n",
        "    result =packing_problem.pack(pre_packed_item, left_over_bin, can_not_pact_bin) #lock_bin, bin_list, pre_packed_item\n",
        "\n",
        "    left_over_item_cbm =sum([s[0]*s[1]*s[2]*s[3] for s in  item_list]) /10**9\n",
        "    data['left_over_item_cbm'] =left_over_item_cbm\n",
        "    data['ratio'] =    (original_item_cbm- left_over_item_cbm)/ (bin_list_cbm)\n",
        "\n",
        "    print(\"left_over_item_list\", item_list)\n",
        "    return packing_problem, data, result, left_over_item_cbm<1\n",
        "    \n",
        "time1=time.time()\n",
        "packing_problem, data, result, fit_or_not = packing(*create_data_model())\n",
        "time.time()-time1"
      ],
      "metadata": {
        "id": "EdiRJjCdimlA",
        "colab": {
          "base_uri": "https://localhost:8080/"
        },
        "outputId": "ec5e789a-6bab-4992-a244-7edad0ac8e3a"
      },
      "execution_count": null,
      "outputs": [
        {
          "output_type": "stream",
          "name": "stdout",
          "text": [
            "500\n",
            "left_over_item_list [array([683, 569, 328,   0,   0,   0,   0,   0,   0,   0]), array([512, 606,  58,   0,   0,   0,   0,   0,   0,   1]), array([595, 566, 133,   0,   0,   0,   0,   0,   0,   0]), array([515, 533, 430,  20,   0,   0,   0,   0,   0,   1]), array([500, 500, 319, 100,   0,   0,   0,   0,   0,   0])]\n"
          ]
        },
        {
          "output_type": "execute_result",
          "data": {
            "text/plain": [
              "3.1683385372161865"
            ]
          },
          "metadata": {},
          "execution_count": 58
        }
      ]
    },
    {
      "cell_type": "code",
      "source": [
        "packing_problem.pre_packed_item"
      ],
      "metadata": {
        "colab": {
          "base_uri": "https://localhost:8080/"
        },
        "id": "jxy5tQGkx7HD",
        "outputId": "5603b567-3a5f-403c-8c3a-33b040e54cba"
      },
      "execution_count": null,
      "outputs": [
        {
          "output_type": "execute_result",
          "data": {
            "text/plain": [
              "[[array([5890, 2330, 2380,    0,    0,    0,    0,    0]),\n",
              "  array([683, 569, 328, 100,   0,   0,   0,   0,   0,   0]),\n",
              "  100,\n",
              "  array([224,   8,   4,   7,   0])],\n",
              " [array([ 683,  623, 2380, 2049, 1707,    0,    1,    0]),\n",
              "  array([512, 606,  58,  41,   0,   0,   0,   0,   0,   1]),\n",
              "  41,\n",
              "  array([41,  1,  1, 41,  0])],\n",
              " [array([ 683,  569, 1724, 2049, 1138,  656,    2,    0]),\n",
              "  array([512, 606,  58,  29,   0,   0,   0,   0,   0,   1]),\n",
              "  29,\n",
              "  array([29,  1,  1, 29,  1])],\n",
              " [array([ 683, 1138,   84, 2049,    0, 2296,    3,    0]),\n",
              "  array([512, 606,  58,   2,   0,   0,   0,   0,   0,   1]),\n",
              "  2,\n",
              "  array([2, 1, 2, 1, 1])],\n",
              " [array([2049, 2276,   84,    0,    0, 2296,    5,    0]),\n",
              "  array([512, 606,  58,  12,   0,   0,   0,   0,   0,   1]),\n",
              "  12,\n",
              "  array([12,  4,  3,  1,  0])],\n",
              " [array([3158, 2330, 2380, 2732,    0,    0,    0,    0]),\n",
              "  array([512, 606,  58,  16,   0,   0,   0,   0,   0,   1]),\n",
              "  16,\n",
              "  array([820,   5,   4,  41,   1])],\n",
              " [array([ 171,  623, 2380, 2561, 1707,    0,    0,    0]),\n",
              "  array([595, 566, 133,   4,   0,   0,   0,   0,   0,   0]),\n",
              "  4,\n",
              "  array([4, 1, 1, 4, 4])],\n",
              " [array([ 606, 1818, 2380, 2732,  512,    0,    1,    0]),\n",
              "  array([595, 566, 133,  52,   0,   0,   0,   0,   0,   0]),\n",
              "  52,\n",
              "  array([52,  1, 13,  4,  2])],\n",
              " [array([ 606,  512, 1452, 2732,    0,  928,    2,    0]),\n",
              "  array([595, 566, 133,   6,   0,   0,   0,   0,   0,   0]),\n",
              "  6,\n",
              "  array([6, 1, 3, 2, 2])],\n",
              " [array([2552, 2330, 2380, 3338,    0,    0,    0,    0]),\n",
              "  array([595, 566, 133,  38,   0,   0,   0,   0,   0,   0]),\n",
              "  38,\n",
              "  array([304,  19,   4,   4,   4])],\n",
              " [array([2153, 2330, 2380, 3737,    0,    0,    0,    0]),\n",
              "  array([515, 533, 430,  80,   0,   0,   0,   0,   0,   1]),\n",
              "  80,\n",
              "  array([80,  4,  4,  5,  0])]]"
            ]
          },
          "metadata": {},
          "execution_count": 65
        }
      ]
    },
    {
      "cell_type": "code",
      "source": [
        "1/data['ratio']"
      ],
      "metadata": {
        "colab": {
          "base_uri": "https://localhost:8080/"
        },
        "id": "SrNRWC-kwjh1",
        "outputId": "9e97f99f-832a-4c20-cf9e-06ac8bb74de0"
      },
      "execution_count": null,
      "outputs": [
        {
          "output_type": "execute_result",
          "data": {
            "text/plain": [
              "1.1473290198391872"
            ]
          },
          "metadata": {},
          "execution_count": 60
        }
      ]
    },
    {
      "cell_type": "code",
      "source": [
        "rd.randint(0,1)"
      ],
      "metadata": {
        "colab": {
          "base_uri": "https://localhost:8080/"
        },
        "id": "f8KQzPWuGrOt",
        "outputId": "1ed75523-1291-4b2a-9a0a-33c9c41ee977"
      },
      "execution_count": null,
      "outputs": [
        {
          "output_type": "execute_result",
          "data": {
            "text/plain": [
              "0"
            ]
          },
          "metadata": {},
          "execution_count": 61
        }
      ]
    },
    {
      "cell_type": "markdown",
      "source": [
        "0.8899204267438228"
      ],
      "metadata": {
        "id": "1itQIYRGpv_E"
      }
    },
    {
      "cell_type": "code",
      "source": [
        "mylist =packing_problem.decompress()\n",
        "packing_problem.draw_packed_bin(packing_problem.original_bin_list[0], packing_problem.mylist)\n"
      ],
      "metadata": {
        "colab": {
          "base_uri": "https://localhost:8080/",
          "height": 917
        },
        "id": "_FXjQw3NCfxa",
        "outputId": "efa8e40d-96b9-49c1-e379-bf2343cef790"
      },
      "execution_count": null,
      "outputs": [
        {
          "output_type": "display_data",
          "data": {
            "text/html": [
              "<html>\n",
              "<head><meta charset=\"utf-8\" /></head>\n",
              "<body>\n",
              "    <div>            <script src=\"https://cdnjs.cloudflare.com/ajax/libs/mathjax/2.7.5/MathJax.js?config=TeX-AMS-MML_SVG\"></script><script type=\"text/javascript\">if (window.MathJax) {MathJax.Hub.Config({SVG: {font: \"STIX-Web\"}});}</script>                <script type=\"text/javascript\">window.PlotlyConfig = {MathJaxConfig: 'local'};</script>\n",
              "        <script src=\"https://cdn.plot.ly/plotly-2.8.3.min.js\"></script>                <div id=\"d34ceb8e-7ac5-4934-bb74-32c3994030f4\" class=\"plotly-graph-div\" style=\"height:900px; width:1300px;\"></div>            <script type=\"text/javascript\">                                    window.PLOTLYENV=window.PLOTLYENV || {};                                    if (document.getElementById(\"d34ceb8e-7ac5-4934-bb74-32c3994030f4\")) {                    Plotly.newPlot(                        \"d34ceb8e-7ac5-4934-bb74-32c3994030f4\",                        [{\"color\":\"#555\",\"name\":\"y\",\"opacity\":0.1,\"showscale\":true,\"x\":[0,0,5890,5890,0,0,5890,5890],\"y\":[0,2330,2330,0,0,2330,2330,0],\"z\":[0,0,0,0,2380,2380,2380,2380],\"type\":\"mesh3d\"},{\"color\":\"#32e15d\",\"flatshading\":true,\"hovertext\":\"box 0\",\"i\":[7,0,0,0,4,4,6,6,4,0,3,2],\"j\":[3,4,1,2,5,6,5,2,0,1,6,3],\"k\":[0,7,2,3,6,7,1,1,5,5,7,6],\"opacity\":1,\"showscale\":true,\"x\":[0,0,683,683,0,0,683,683],\"y\":[0,569,569,0,0,569,569,0],\"z\":[0,0,0,0,2296,2296,2296,2296],\"type\":\"mesh3d\"},{\"mode\":\"markers\",\"x\":[0],\"y\":[0],\"z\":[0],\"type\":\"scatter3d\"},{\"color\":\"#6076f6\",\"flatshading\":true,\"hovertext\":\"box 1\",\"i\":[7,0,0,0,4,4,6,6,4,0,3,2],\"j\":[3,4,1,2,5,6,5,2,0,1,6,3],\"k\":[0,7,2,3,6,7,1,1,5,5,7,6],\"opacity\":1,\"showscale\":true,\"x\":[0,0,683,683,0,0,683,683],\"y\":[569,1138,1138,569,569,1138,1138,569],\"z\":[0,0,0,0,2296,2296,2296,2296],\"type\":\"mesh3d\"},{\"mode\":\"markers\",\"x\":[0],\"y\":[0],\"z\":[0],\"type\":\"scatter3d\"},{\"color\":\"#d96c79\",\"flatshading\":true,\"hovertext\":\"box 2\",\"i\":[7,0,0,0,4,4,6,6,4,0,3,2],\"j\":[3,4,1,2,5,6,5,2,0,1,6,3],\"k\":[0,7,2,3,6,7,1,1,5,5,7,6],\"opacity\":1,\"showscale\":true,\"x\":[0,0,683,683,0,0,683,683],\"y\":[1138,1707,1707,1138,1138,1707,1707,1138],\"z\":[0,0,0,0,2296,2296,2296,2296],\"type\":\"mesh3d\"},{\"mode\":\"markers\",\"x\":[0],\"y\":[0],\"z\":[0],\"type\":\"scatter3d\"},{\"color\":\"#c36851\",\"flatshading\":true,\"hovertext\":\"box 3\",\"i\":[7,0,0,0,4,4,6,6,4,0,3,2],\"j\":[3,4,1,2,5,6,5,2,0,1,6,3],\"k\":[0,7,2,3,6,7,1,1,5,5,7,6],\"opacity\":1,\"showscale\":true,\"x\":[0,0,683,683,0,0,683,683],\"y\":[1707,2276,2276,1707,1707,2276,2276,1707],\"z\":[0,0,0,0,2296,2296,2296,2296],\"type\":\"mesh3d\"},{\"mode\":\"markers\",\"x\":[0],\"y\":[0],\"z\":[0],\"type\":\"scatter3d\"},{\"color\":\"#9a214d\",\"flatshading\":true,\"hovertext\":\"box 4\",\"i\":[7,0,0,0,4,4,6,6,4,0,3,2],\"j\":[3,4,1,2,5,6,5,2,0,1,6,3],\"k\":[0,7,2,3,6,7,1,1,5,5,7,6],\"opacity\":1,\"showscale\":true,\"x\":[683,683,1366,1366,683,683,1366,1366],\"y\":[0,569,569,0,0,569,569,0],\"z\":[0,0,0,0,2296,2296,2296,2296],\"type\":\"mesh3d\"},{\"mode\":\"markers\",\"x\":[0],\"y\":[0],\"z\":[0],\"type\":\"scatter3d\"},{\"color\":\"#0d1248\",\"flatshading\":true,\"hovertext\":\"box 5\",\"i\":[7,0,0,0,4,4,6,6,4,0,3,2],\"j\":[3,4,1,2,5,6,5,2,0,1,6,3],\"k\":[0,7,2,3,6,7,1,1,5,5,7,6],\"opacity\":1,\"showscale\":true,\"x\":[683,683,1366,1366,683,683,1366,1366],\"y\":[569,1138,1138,569,569,1138,1138,569],\"z\":[0,0,0,0,2296,2296,2296,2296],\"type\":\"mesh3d\"},{\"mode\":\"markers\",\"x\":[0],\"y\":[0],\"z\":[0],\"type\":\"scatter3d\"},{\"color\":\"#81b684\",\"flatshading\":true,\"hovertext\":\"box 6\",\"i\":[7,0,0,0,4,4,6,6,4,0,3,2],\"j\":[3,4,1,2,5,6,5,2,0,1,6,3],\"k\":[0,7,2,3,6,7,1,1,5,5,7,6],\"opacity\":1,\"showscale\":true,\"x\":[683,683,1366,1366,683,683,1366,1366],\"y\":[1138,1707,1707,1138,1138,1707,1707,1138],\"z\":[0,0,0,0,2296,2296,2296,2296],\"type\":\"mesh3d\"},{\"mode\":\"markers\",\"x\":[0],\"y\":[0],\"z\":[0],\"type\":\"scatter3d\"},{\"color\":\"#7fec70\",\"flatshading\":true,\"hovertext\":\"box 7\",\"i\":[7,0,0,0,4,4,6,6,4,0,3,2],\"j\":[3,4,1,2,5,6,5,2,0,1,6,3],\"k\":[0,7,2,3,6,7,1,1,5,5,7,6],\"opacity\":1,\"showscale\":true,\"x\":[683,683,1366,1366,683,683,1366,1366],\"y\":[1707,2276,2276,1707,1707,2276,2276,1707],\"z\":[0,0,0,0,2296,2296,2296,2296],\"type\":\"mesh3d\"},{\"mode\":\"markers\",\"x\":[0],\"y\":[0],\"z\":[0],\"type\":\"scatter3d\"},{\"color\":\"#6f57cb\",\"flatshading\":true,\"hovertext\":\"box 8\",\"i\":[7,0,0,0,4,4,6,6,4,0,3,2],\"j\":[3,4,1,2,5,6,5,2,0,1,6,3],\"k\":[0,7,2,3,6,7,1,1,5,5,7,6],\"opacity\":1,\"showscale\":true,\"x\":[1366,1366,2049,2049,1366,1366,2049,2049],\"y\":[0,569,569,0,0,569,569,0],\"z\":[0,0,0,0,2296,2296,2296,2296],\"type\":\"mesh3d\"},{\"mode\":\"markers\",\"x\":[0],\"y\":[0],\"z\":[0],\"type\":\"scatter3d\"},{\"color\":\"#3017e8\",\"flatshading\":true,\"hovertext\":\"box 9\",\"i\":[7,0,0,0,4,4,6,6,4,0,3,2],\"j\":[3,4,1,2,5,6,5,2,0,1,6,3],\"k\":[0,7,2,3,6,7,1,1,5,5,7,6],\"opacity\":1,\"showscale\":true,\"x\":[1366,1366,2049,2049,1366,1366,2049,2049],\"y\":[569,1138,1138,569,569,1138,1138,569],\"z\":[0,0,0,0,2296,2296,2296,2296],\"type\":\"mesh3d\"},{\"mode\":\"markers\",\"x\":[0],\"y\":[0],\"z\":[0],\"type\":\"scatter3d\"},{\"color\":\"#d7b780\",\"flatshading\":true,\"hovertext\":\"box 10\",\"i\":[7,0,0,0,4,4,6,6,4,0,3,2],\"j\":[3,4,1,2,5,6,5,2,0,1,6,3],\"k\":[0,7,2,3,6,7,1,1,5,5,7,6],\"opacity\":1,\"showscale\":true,\"x\":[1366,1366,2049,2049,1366,1366,2049,2049],\"y\":[1138,1707,1707,1138,1138,1707,1707,1138],\"z\":[0,0,0,0,2296,2296,2296,2296],\"type\":\"mesh3d\"},{\"mode\":\"markers\",\"x\":[0],\"y\":[0],\"z\":[0],\"type\":\"scatter3d\"},{\"color\":\"#f56406\",\"flatshading\":true,\"hovertext\":\"box 11\",\"i\":[7,0,0,0,4,4,6,6,4,0,3,2],\"j\":[3,4,1,2,5,6,5,2,0,1,6,3],\"k\":[0,7,2,3,6,7,1,1,5,5,7,6],\"opacity\":1,\"showscale\":true,\"x\":[1366,1366,2049,2049,1366,1366,2049,2049],\"y\":[1707,2276,2276,1707,1707,2276,2276,1707],\"z\":[0,0,0,0,2296,2296,2296,2296],\"type\":\"mesh3d\"},{\"mode\":\"markers\",\"x\":[0],\"y\":[0],\"z\":[0],\"type\":\"scatter3d\"},{\"color\":\"#4edc64\",\"flatshading\":true,\"hovertext\":\"box 12\",\"i\":[7,0,0,0,4,4,6,6,4,0,3,2],\"j\":[3,4,1,2,5,6,5,2,0,1,6,3],\"k\":[0,7,2,3,6,7,1,1,5,5,7,6],\"opacity\":1,\"showscale\":true,\"x\":[2049,2049,2732,2732,2049,2049,2732,2732],\"y\":[0,569,569,0,0,569,569,0],\"z\":[0,0,0,0,2296,2296,2296,2296],\"type\":\"mesh3d\"},{\"mode\":\"markers\",\"x\":[0],\"y\":[0],\"z\":[0],\"type\":\"scatter3d\"},{\"color\":\"#6dfb0a\",\"flatshading\":true,\"hovertext\":\"box 13\",\"i\":[7,0,0,0,4,4,6,6,4,0,3,2],\"j\":[3,4,1,2,5,6,5,2,0,1,6,3],\"k\":[0,7,2,3,6,7,1,1,5,5,7,6],\"opacity\":1,\"showscale\":true,\"x\":[2049,2049,2732,2732,2049,2049,2732,2732],\"y\":[569,1138,1138,569,569,1138,1138,569],\"z\":[0,0,0,0,2296,2296,2296,2296],\"type\":\"mesh3d\"},{\"mode\":\"markers\",\"x\":[0],\"y\":[0],\"z\":[0],\"type\":\"scatter3d\"},{\"color\":\"#119f45\",\"flatshading\":true,\"hovertext\":\"box 14\",\"i\":[7,0,0,0,4,4,6,6,4,0,3,2],\"j\":[3,4,1,2,5,6,5,2,0,1,6,3],\"k\":[0,7,2,3,6,7,1,1,5,5,7,6],\"opacity\":1,\"showscale\":true,\"x\":[2049,2049,2732,2732,2049,2049,2732,2732],\"y\":[1138,1707,1707,1138,1138,1707,1707,1138],\"z\":[0,0,0,0,656,656,656,656],\"type\":\"mesh3d\"},{\"mode\":\"markers\",\"x\":[0],\"y\":[0],\"z\":[0],\"type\":\"scatter3d\"},{\"color\":\"#a32841\",\"flatshading\":true,\"hovertext\":\"box 15\",\"i\":[7,0,0,0,4,4,6,6,4,0,3,2],\"j\":[3,4,1,2,5,6,5,2,0,1,6,3],\"k\":[0,7,2,3,6,7,1,1,5,5,7,6],\"opacity\":1,\"showscale\":true,\"x\":[2049,2049,2561,2561,2049,2049,2561,2561],\"y\":[1707,2313,2313,1707,1707,2313,2313,1707],\"z\":[0,0,0,0,2378,2378,2378,2378],\"type\":\"mesh3d\"},{\"mode\":\"markers\",\"x\":[0],\"y\":[0],\"z\":[0],\"type\":\"scatter3d\"},{\"color\":\"#e5ba11\",\"flatshading\":true,\"hovertext\":\"box 16\",\"i\":[7,0,0,0,4,4,6,6,4,0,3,2],\"j\":[3,4,1,2,5,6,5,2,0,1,6,3],\"k\":[0,7,2,3,6,7,1,1,5,5,7,6],\"opacity\":1,\"showscale\":true,\"x\":[2049,2049,2655,2655,2049,2049,2655,2655],\"y\":[1138,1650,1650,1138,1138,1650,1650,1138],\"z\":[656,656,656,656,2338,2338,2338,2338],\"type\":\"mesh3d\"},{\"mode\":\"markers\",\"x\":[0],\"y\":[0],\"z\":[0],\"type\":\"scatter3d\"},{\"color\":\"#52e04b\",\"flatshading\":true,\"hovertext\":\"box 17\",\"i\":[7,0,0,0,4,4,6,6,4,0,3,2],\"j\":[3,4,1,2,5,6,5,2,0,1,6,3],\"k\":[0,7,2,3,6,7,1,1,5,5,7,6],\"opacity\":1,\"showscale\":true,\"x\":[2049,2049,2655,2655,2049,2049,2655,2655],\"y\":[0,512,512,0,0,512,512,0],\"z\":[2296,2296,2296,2296,2354,2354,2354,2354],\"type\":\"mesh3d\"},{\"mode\":\"markers\",\"x\":[0],\"y\":[0],\"z\":[0],\"type\":\"scatter3d\"},{\"color\":\"#79000d\",\"flatshading\":true,\"hovertext\":\"box 18\",\"i\":[7,0,0,0,4,4,6,6,4,0,3,2],\"j\":[3,4,1,2,5,6,5,2,0,1,6,3],\"k\":[0,7,2,3,6,7,1,1,5,5,7,6],\"opacity\":1,\"showscale\":true,\"x\":[2049,2049,2655,2655,2049,2049,2655,2655],\"y\":[512,1024,1024,512,512,1024,1024,512],\"z\":[2296,2296,2296,2296,2354,2354,2354,2354],\"type\":\"mesh3d\"},{\"mode\":\"markers\",\"x\":[0],\"y\":[0],\"z\":[0],\"type\":\"scatter3d\"},{\"color\":\"#2d7028\",\"flatshading\":true,\"hovertext\":\"box 19\",\"i\":[7,0,0,0,4,4,6,6,4,0,3,2],\"j\":[3,4,1,2,5,6,5,2,0,1,6,3],\"k\":[0,7,2,3,6,7,1,1,5,5,7,6],\"opacity\":1,\"showscale\":true,\"x\":[0,0,512,512,0,0,512,512],\"y\":[0,606,606,0,0,606,606,0],\"z\":[2296,2296,2296,2296,2354,2354,2354,2354],\"type\":\"mesh3d\"},{\"mode\":\"markers\",\"x\":[0],\"y\":[0],\"z\":[0],\"type\":\"scatter3d\"},{\"color\":\"#619dc5\",\"flatshading\":true,\"hovertext\":\"box 20\",\"i\":[7,0,0,0,4,4,6,6,4,0,3,2],\"j\":[3,4,1,2,5,6,5,2,0,1,6,3],\"k\":[0,7,2,3,6,7,1,1,5,5,7,6],\"opacity\":1,\"showscale\":true,\"x\":[0,0,512,512,0,0,512,512],\"y\":[606,1212,1212,606,606,1212,1212,606],\"z\":[2296,2296,2296,2296,2354,2354,2354,2354],\"type\":\"mesh3d\"},{\"mode\":\"markers\",\"x\":[0],\"y\":[0],\"z\":[0],\"type\":\"scatter3d\"},{\"color\":\"#20d1fb\",\"flatshading\":true,\"hovertext\":\"box 21\",\"i\":[7,0,0,0,4,4,6,6,4,0,3,2],\"j\":[3,4,1,2,5,6,5,2,0,1,6,3],\"k\":[0,7,2,3,6,7,1,1,5,5,7,6],\"opacity\":1,\"showscale\":true,\"x\":[0,0,512,512,0,0,512,512],\"y\":[1212,1818,1818,1212,1212,1818,1818,1212],\"z\":[2296,2296,2296,2296,2354,2354,2354,2354],\"type\":\"mesh3d\"},{\"mode\":\"markers\",\"x\":[0],\"y\":[0],\"z\":[0],\"type\":\"scatter3d\"},{\"color\":\"#d035bb\",\"flatshading\":true,\"hovertext\":\"box 22\",\"i\":[7,0,0,0,4,4,6,6,4,0,3,2],\"j\":[3,4,1,2,5,6,5,2,0,1,6,3],\"k\":[0,7,2,3,6,7,1,1,5,5,7,6],\"opacity\":1,\"showscale\":true,\"x\":[512,512,1024,1024,512,512,1024,1024],\"y\":[0,606,606,0,0,606,606,0],\"z\":[2296,2296,2296,2296,2354,2354,2354,2354],\"type\":\"mesh3d\"},{\"mode\":\"markers\",\"x\":[0],\"y\":[0],\"z\":[0],\"type\":\"scatter3d\"},{\"color\":\"#d97151\",\"flatshading\":true,\"hovertext\":\"box 23\",\"i\":[7,0,0,0,4,4,6,6,4,0,3,2],\"j\":[3,4,1,2,5,6,5,2,0,1,6,3],\"k\":[0,7,2,3,6,7,1,1,5,5,7,6],\"opacity\":1,\"showscale\":true,\"x\":[512,512,1024,1024,512,512,1024,1024],\"y\":[606,1212,1212,606,606,1212,1212,606],\"z\":[2296,2296,2296,2296,2354,2354,2354,2354],\"type\":\"mesh3d\"},{\"mode\":\"markers\",\"x\":[0],\"y\":[0],\"z\":[0],\"type\":\"scatter3d\"},{\"color\":\"#1ad2ae\",\"flatshading\":true,\"hovertext\":\"box 24\",\"i\":[7,0,0,0,4,4,6,6,4,0,3,2],\"j\":[3,4,1,2,5,6,5,2,0,1,6,3],\"k\":[0,7,2,3,6,7,1,1,5,5,7,6],\"opacity\":1,\"showscale\":true,\"x\":[512,512,1024,1024,512,512,1024,1024],\"y\":[1212,1818,1818,1212,1212,1818,1818,1212],\"z\":[2296,2296,2296,2296,2354,2354,2354,2354],\"type\":\"mesh3d\"},{\"mode\":\"markers\",\"x\":[0],\"y\":[0],\"z\":[0],\"type\":\"scatter3d\"},{\"color\":\"#ff0240\",\"flatshading\":true,\"hovertext\":\"box 25\",\"i\":[7,0,0,0,4,4,6,6,4,0,3,2],\"j\":[3,4,1,2,5,6,5,2,0,1,6,3],\"k\":[0,7,2,3,6,7,1,1,5,5,7,6],\"opacity\":1,\"showscale\":true,\"x\":[1024,1024,1536,1536,1024,1024,1536,1536],\"y\":[0,606,606,0,0,606,606,0],\"z\":[2296,2296,2296,2296,2354,2354,2354,2354],\"type\":\"mesh3d\"},{\"mode\":\"markers\",\"x\":[0],\"y\":[0],\"z\":[0],\"type\":\"scatter3d\"},{\"color\":\"#c3ab19\",\"flatshading\":true,\"hovertext\":\"box 26\",\"i\":[7,0,0,0,4,4,6,6,4,0,3,2],\"j\":[3,4,1,2,5,6,5,2,0,1,6,3],\"k\":[0,7,2,3,6,7,1,1,5,5,7,6],\"opacity\":1,\"showscale\":true,\"x\":[1024,1024,1536,1536,1024,1024,1536,1536],\"y\":[606,1212,1212,606,606,1212,1212,606],\"z\":[2296,2296,2296,2296,2354,2354,2354,2354],\"type\":\"mesh3d\"},{\"mode\":\"markers\",\"x\":[0],\"y\":[0],\"z\":[0],\"type\":\"scatter3d\"},{\"color\":\"#590233\",\"flatshading\":true,\"hovertext\":\"box 27\",\"i\":[7,0,0,0,4,4,6,6,4,0,3,2],\"j\":[3,4,1,2,5,6,5,2,0,1,6,3],\"k\":[0,7,2,3,6,7,1,1,5,5,7,6],\"opacity\":1,\"showscale\":true,\"x\":[1024,1024,1536,1536,1024,1024,1536,1536],\"y\":[1212,1818,1818,1212,1212,1818,1818,1212],\"z\":[2296,2296,2296,2296,2354,2354,2354,2354],\"type\":\"mesh3d\"},{\"mode\":\"markers\",\"x\":[0],\"y\":[0],\"z\":[0],\"type\":\"scatter3d\"},{\"color\":\"#86747b\",\"flatshading\":true,\"hovertext\":\"box 28\",\"i\":[7,0,0,0,4,4,6,6,4,0,3,2],\"j\":[3,4,1,2,5,6,5,2,0,1,6,3],\"k\":[0,7,2,3,6,7,1,1,5,5,7,6],\"opacity\":1,\"showscale\":true,\"x\":[1536,1536,2048,2048,1536,1536,2048,2048],\"y\":[0,606,606,0,0,606,606,0],\"z\":[2296,2296,2296,2296,2354,2354,2354,2354],\"type\":\"mesh3d\"},{\"mode\":\"markers\",\"x\":[0],\"y\":[0],\"z\":[0],\"type\":\"scatter3d\"},{\"color\":\"#adc5fe\",\"flatshading\":true,\"hovertext\":\"box 29\",\"i\":[7,0,0,0,4,4,6,6,4,0,3,2],\"j\":[3,4,1,2,5,6,5,2,0,1,6,3],\"k\":[0,7,2,3,6,7,1,1,5,5,7,6],\"opacity\":1,\"showscale\":true,\"x\":[1536,1536,2048,2048,1536,1536,2048,2048],\"y\":[606,1212,1212,606,606,1212,1212,606],\"z\":[2296,2296,2296,2296,2354,2354,2354,2354],\"type\":\"mesh3d\"},{\"mode\":\"markers\",\"x\":[0],\"y\":[0],\"z\":[0],\"type\":\"scatter3d\"},{\"color\":\"#de020e\",\"flatshading\":true,\"hovertext\":\"box 30\",\"i\":[7,0,0,0,4,4,6,6,4,0,3,2],\"j\":[3,4,1,2,5,6,5,2,0,1,6,3],\"k\":[0,7,2,3,6,7,1,1,5,5,7,6],\"opacity\":1,\"showscale\":true,\"x\":[1536,1536,2048,2048,1536,1536,2048,2048],\"y\":[1212,1818,1818,1212,1212,1818,1818,1212],\"z\":[2296,2296,2296,2296,2354,2354,2354,2354],\"type\":\"mesh3d\"},{\"mode\":\"markers\",\"x\":[0],\"y\":[0],\"z\":[0],\"type\":\"scatter3d\"},{\"color\":\"#412cc6\",\"flatshading\":true,\"hovertext\":\"box 31\",\"i\":[7,0,0,0,4,4,6,6,4,0,3,2],\"j\":[3,4,1,2,5,6,5,2,0,1,6,3],\"k\":[0,7,2,3,6,7,1,1,5,5,7,6],\"opacity\":1,\"showscale\":true,\"x\":[2732,2732,3338,3338,2732,2732,3338,3338],\"y\":[0,512,512,0,0,512,512,0],\"z\":[0,0,0,0,928,928,928,928],\"type\":\"mesh3d\"},{\"mode\":\"markers\",\"x\":[0],\"y\":[0],\"z\":[0],\"type\":\"scatter3d\"},{\"color\":\"#140967\",\"flatshading\":true,\"hovertext\":\"box 32\",\"i\":[7,0,0,0,4,4,6,6,4,0,3,2],\"j\":[3,4,1,2,5,6,5,2,0,1,6,3],\"k\":[0,7,2,3,6,7,1,1,5,5,7,6],\"opacity\":1,\"showscale\":true,\"x\":[2561,2561,2694,2694,2561,2561,2694,2694],\"y\":[1707,2273,2273,1707,1707,2273,2273,1707],\"z\":[0,0,0,0,2380,2380,2380,2380],\"type\":\"mesh3d\"},{\"mode\":\"markers\",\"x\":[0],\"y\":[0],\"z\":[0],\"type\":\"scatter3d\"},{\"color\":\"#cdbac2\",\"flatshading\":true,\"hovertext\":\"box 33\",\"i\":[7,0,0,0,4,4,6,6,4,0,3,2],\"j\":[3,4,1,2,5,6,5,2,0,1,6,3],\"k\":[0,7,2,3,6,7,1,1,5,5,7,6],\"opacity\":1,\"showscale\":true,\"x\":[2732,2732,3327,3327,2732,2732,3327,3327],\"y\":[512,645,645,512,512,645,645,512],\"z\":[0,0,0,0,2264,2264,2264,2264],\"type\":\"mesh3d\"},{\"mode\":\"markers\",\"x\":[0],\"y\":[0],\"z\":[0],\"type\":\"scatter3d\"},{\"color\":\"#d674ba\",\"flatshading\":true,\"hovertext\":\"box 34\",\"i\":[7,0,0,0,4,4,6,6,4,0,3,2],\"j\":[3,4,1,2,5,6,5,2,0,1,6,3],\"k\":[0,7,2,3,6,7,1,1,5,5,7,6],\"opacity\":1,\"showscale\":true,\"x\":[2732,2732,3327,3327,2732,2732,3327,3327],\"y\":[645,778,778,645,645,778,778,645],\"z\":[0,0,0,0,2264,2264,2264,2264],\"type\":\"mesh3d\"},{\"mode\":\"markers\",\"x\":[0],\"y\":[0],\"z\":[0],\"type\":\"scatter3d\"},{\"color\":\"#115239\",\"flatshading\":true,\"hovertext\":\"box 35\",\"i\":[7,0,0,0,4,4,6,6,4,0,3,2],\"j\":[3,4,1,2,5,6,5,2,0,1,6,3],\"k\":[0,7,2,3,6,7,1,1,5,5,7,6],\"opacity\":1,\"showscale\":true,\"x\":[2732,2732,3327,3327,2732,2732,3327,3327],\"y\":[778,911,911,778,778,911,911,778],\"z\":[0,0,0,0,2264,2264,2264,2264],\"type\":\"mesh3d\"},{\"mode\":\"markers\",\"x\":[0],\"y\":[0],\"z\":[0],\"type\":\"scatter3d\"},{\"color\":\"#58093e\",\"flatshading\":true,\"hovertext\":\"box 36\",\"i\":[7,0,0,0,4,4,6,6,4,0,3,2],\"j\":[3,4,1,2,5,6,5,2,0,1,6,3],\"k\":[0,7,2,3,6,7,1,1,5,5,7,6],\"opacity\":1,\"showscale\":true,\"x\":[2732,2732,3327,3327,2732,2732,3327,3327],\"y\":[911,1044,1044,911,911,1044,1044,911],\"z\":[0,0,0,0,2264,2264,2264,2264],\"type\":\"mesh3d\"},{\"mode\":\"markers\",\"x\":[0],\"y\":[0],\"z\":[0],\"type\":\"scatter3d\"},{\"color\":\"#a1f9e4\",\"flatshading\":true,\"hovertext\":\"box 37\",\"i\":[7,0,0,0,4,4,6,6,4,0,3,2],\"j\":[3,4,1,2,5,6,5,2,0,1,6,3],\"k\":[0,7,2,3,6,7,1,1,5,5,7,6],\"opacity\":1,\"showscale\":true,\"x\":[2732,2732,3327,3327,2732,2732,3327,3327],\"y\":[1044,1177,1177,1044,1044,1177,1177,1044],\"z\":[0,0,0,0,2264,2264,2264,2264],\"type\":\"mesh3d\"},{\"mode\":\"markers\",\"x\":[0],\"y\":[0],\"z\":[0],\"type\":\"scatter3d\"},{\"color\":\"#3e7251\",\"flatshading\":true,\"hovertext\":\"box 38\",\"i\":[7,0,0,0,4,4,6,6,4,0,3,2],\"j\":[3,4,1,2,5,6,5,2,0,1,6,3],\"k\":[0,7,2,3,6,7,1,1,5,5,7,6],\"opacity\":1,\"showscale\":true,\"x\":[2732,2732,3327,3327,2732,2732,3327,3327],\"y\":[1177,1310,1310,1177,1177,1310,1310,1177],\"z\":[0,0,0,0,2264,2264,2264,2264],\"type\":\"mesh3d\"},{\"mode\":\"markers\",\"x\":[0],\"y\":[0],\"z\":[0],\"type\":\"scatter3d\"},{\"color\":\"#8bf565\",\"flatshading\":true,\"hovertext\":\"box 39\",\"i\":[7,0,0,0,4,4,6,6,4,0,3,2],\"j\":[3,4,1,2,5,6,5,2,0,1,6,3],\"k\":[0,7,2,3,6,7,1,1,5,5,7,6],\"opacity\":1,\"showscale\":true,\"x\":[2732,2732,3327,3327,2732,2732,3327,3327],\"y\":[1310,1443,1443,1310,1310,1443,1443,1310],\"z\":[0,0,0,0,2264,2264,2264,2264],\"type\":\"mesh3d\"},{\"mode\":\"markers\",\"x\":[0],\"y\":[0],\"z\":[0],\"type\":\"scatter3d\"},{\"color\":\"#c51133\",\"flatshading\":true,\"hovertext\":\"box 40\",\"i\":[7,0,0,0,4,4,6,6,4,0,3,2],\"j\":[3,4,1,2,5,6,5,2,0,1,6,3],\"k\":[0,7,2,3,6,7,1,1,5,5,7,6],\"opacity\":1,\"showscale\":true,\"x\":[2732,2732,3327,3327,2732,2732,3327,3327],\"y\":[1443,1576,1576,1443,1443,1576,1576,1443],\"z\":[0,0,0,0,2264,2264,2264,2264],\"type\":\"mesh3d\"},{\"mode\":\"markers\",\"x\":[0],\"y\":[0],\"z\":[0],\"type\":\"scatter3d\"},{\"color\":\"#283ad1\",\"flatshading\":true,\"hovertext\":\"box 41\",\"i\":[7,0,0,0,4,4,6,6,4,0,3,2],\"j\":[3,4,1,2,5,6,5,2,0,1,6,3],\"k\":[0,7,2,3,6,7,1,1,5,5,7,6],\"opacity\":1,\"showscale\":true,\"x\":[2732,2732,3327,3327,2732,2732,3327,3327],\"y\":[1576,1709,1709,1576,1576,1709,1709,1576],\"z\":[0,0,0,0,2264,2264,2264,2264],\"type\":\"mesh3d\"},{\"mode\":\"markers\",\"x\":[0],\"y\":[0],\"z\":[0],\"type\":\"scatter3d\"},{\"color\":\"#3b110f\",\"flatshading\":true,\"hovertext\":\"box 42\",\"i\":[7,0,0,0,4,4,6,6,4,0,3,2],\"j\":[3,4,1,2,5,6,5,2,0,1,6,3],\"k\":[0,7,2,3,6,7,1,1,5,5,7,6],\"opacity\":1,\"showscale\":true,\"x\":[2732,2732,3327,3327,2732,2732,3327,3327],\"y\":[1709,1842,1842,1709,1709,1842,1842,1709],\"z\":[0,0,0,0,2264,2264,2264,2264],\"type\":\"mesh3d\"},{\"mode\":\"markers\",\"x\":[0],\"y\":[0],\"z\":[0],\"type\":\"scatter3d\"},{\"color\":\"#01148f\",\"flatshading\":true,\"hovertext\":\"box 43\",\"i\":[7,0,0,0,4,4,6,6,4,0,3,2],\"j\":[3,4,1,2,5,6,5,2,0,1,6,3],\"k\":[0,7,2,3,6,7,1,1,5,5,7,6],\"opacity\":1,\"showscale\":true,\"x\":[2732,2732,3327,3327,2732,2732,3327,3327],\"y\":[1842,1975,1975,1842,1842,1975,1975,1842],\"z\":[0,0,0,0,2264,2264,2264,2264],\"type\":\"mesh3d\"},{\"mode\":\"markers\",\"x\":[0],\"y\":[0],\"z\":[0],\"type\":\"scatter3d\"},{\"color\":\"#6a02b2\",\"flatshading\":true,\"hovertext\":\"box 44\",\"i\":[7,0,0,0,4,4,6,6,4,0,3,2],\"j\":[3,4,1,2,5,6,5,2,0,1,6,3],\"k\":[0,7,2,3,6,7,1,1,5,5,7,6],\"opacity\":1,\"showscale\":true,\"x\":[2732,2732,3327,3327,2732,2732,3327,3327],\"y\":[1975,2108,2108,1975,1975,2108,2108,1975],\"z\":[0,0,0,0,2264,2264,2264,2264],\"type\":\"mesh3d\"},{\"mode\":\"markers\",\"x\":[0],\"y\":[0],\"z\":[0],\"type\":\"scatter3d\"},{\"color\":\"#5fed8d\",\"flatshading\":true,\"hovertext\":\"box 45\",\"i\":[7,0,0,0,4,4,6,6,4,0,3,2],\"j\":[3,4,1,2,5,6,5,2,0,1,6,3],\"k\":[0,7,2,3,6,7,1,1,5,5,7,6],\"opacity\":1,\"showscale\":true,\"x\":[2732,2732,3327,3327,2732,2732,3327,3327],\"y\":[2108,2241,2241,2108,2108,2241,2241,2108],\"z\":[0,0,0,0,2264,2264,2264,2264],\"type\":\"mesh3d\"},{\"mode\":\"markers\",\"x\":[0],\"y\":[0],\"z\":[0],\"type\":\"scatter3d\"},{\"color\":\"#1f7120\",\"flatshading\":true,\"hovertext\":\"box 46\",\"i\":[7,0,0,0,4,4,6,6,4,0,3,2],\"j\":[3,4,1,2,5,6,5,2,0,1,6,3],\"k\":[0,7,2,3,6,7,1,1,5,5,7,6],\"opacity\":1,\"showscale\":true,\"x\":[2732,2732,3327,3327,2732,2732,3327,3327],\"y\":[0,133,133,0,0,133,133,0],\"z\":[928,928,928,928,2060,2060,2060,2060],\"type\":\"mesh3d\"},{\"mode\":\"markers\",\"x\":[0],\"y\":[0],\"z\":[0],\"type\":\"scatter3d\"},{\"color\":\"#97b5ed\",\"flatshading\":true,\"hovertext\":\"box 47\",\"i\":[7,0,0,0,4,4,6,6,4,0,3,2],\"j\":[3,4,1,2,5,6,5,2,0,1,6,3],\"k\":[0,7,2,3,6,7,1,1,5,5,7,6],\"opacity\":1,\"showscale\":true,\"x\":[2732,2732,3327,3327,2732,2732,3327,3327],\"y\":[133,266,266,133,133,266,266,133],\"z\":[928,928,928,928,2060,2060,2060,2060],\"type\":\"mesh3d\"},{\"mode\":\"markers\",\"x\":[0],\"y\":[0],\"z\":[0],\"type\":\"scatter3d\"},{\"color\":\"#d88ffe\",\"flatshading\":true,\"hovertext\":\"box 48\",\"i\":[7,0,0,0,4,4,6,6,4,0,3,2],\"j\":[3,4,1,2,5,6,5,2,0,1,6,3],\"k\":[0,7,2,3,6,7,1,1,5,5,7,6],\"opacity\":1,\"showscale\":true,\"x\":[2732,2732,3327,3327,2732,2732,3327,3327],\"y\":[266,399,399,266,266,399,399,266],\"z\":[928,928,928,928,2060,2060,2060,2060],\"type\":\"mesh3d\"},{\"mode\":\"markers\",\"x\":[0],\"y\":[0],\"z\":[0],\"type\":\"scatter3d\"},{\"color\":\"#b06ebf\",\"flatshading\":true,\"hovertext\":\"box 49\",\"i\":[7,0,0,0,4,4,6,6,4,0,3,2],\"j\":[3,4,1,2,5,6,5,2,0,1,6,3],\"k\":[0,7,2,3,6,7,1,1,5,5,7,6],\"opacity\":1,\"showscale\":true,\"x\":[3338,3338,3471,3471,3338,3338,3471,3471],\"y\":[0,566,566,0,0,566,566,0],\"z\":[0,0,0,0,2380,2380,2380,2380],\"type\":\"mesh3d\"},{\"mode\":\"markers\",\"x\":[0],\"y\":[0],\"z\":[0],\"type\":\"scatter3d\"},{\"color\":\"#098b97\",\"flatshading\":true,\"hovertext\":\"box 50\",\"i\":[7,0,0,0,4,4,6,6,4,0,3,2],\"j\":[3,4,1,2,5,6,5,2,0,1,6,3],\"k\":[0,7,2,3,6,7,1,1,5,5,7,6],\"opacity\":1,\"showscale\":true,\"x\":[3338,3338,3471,3471,3338,3338,3471,3471],\"y\":[566,1132,1132,566,566,1132,1132,566],\"z\":[0,0,0,0,2380,2380,2380,2380],\"type\":\"mesh3d\"},{\"mode\":\"markers\",\"x\":[0],\"y\":[0],\"z\":[0],\"type\":\"scatter3d\"},{\"color\":\"#d78c90\",\"flatshading\":true,\"hovertext\":\"box 51\",\"i\":[7,0,0,0,4,4,6,6,4,0,3,2],\"j\":[3,4,1,2,5,6,5,2,0,1,6,3],\"k\":[0,7,2,3,6,7,1,1,5,5,7,6],\"opacity\":1,\"showscale\":true,\"x\":[3338,3338,3471,3471,3338,3338,3471,3471],\"y\":[1132,1698,1698,1132,1132,1698,1698,1132],\"z\":[0,0,0,0,2380,2380,2380,2380],\"type\":\"mesh3d\"},{\"mode\":\"markers\",\"x\":[0],\"y\":[0],\"z\":[0],\"type\":\"scatter3d\"},{\"color\":\"#10515c\",\"flatshading\":true,\"hovertext\":\"box 52\",\"i\":[7,0,0,0,4,4,6,6,4,0,3,2],\"j\":[3,4,1,2,5,6,5,2,0,1,6,3],\"k\":[0,7,2,3,6,7,1,1,5,5,7,6],\"opacity\":1,\"showscale\":true,\"x\":[3338,3338,3471,3471,3338,3338,3471,3471],\"y\":[1698,2264,2264,1698,1698,2264,2264,1698],\"z\":[0,0,0,0,2380,2380,2380,2380],\"type\":\"mesh3d\"},{\"mode\":\"markers\",\"x\":[0],\"y\":[0],\"z\":[0],\"type\":\"scatter3d\"},{\"color\":\"#dfc66b\",\"flatshading\":true,\"hovertext\":\"box 53\",\"i\":[7,0,0,0,4,4,6,6,4,0,3,2],\"j\":[3,4,1,2,5,6,5,2,0,1,6,3],\"k\":[0,7,2,3,6,7,1,1,5,5,7,6],\"opacity\":1,\"showscale\":true,\"x\":[3471,3471,3604,3604,3471,3471,3604,3604],\"y\":[0,566,566,0,0,566,566,0],\"z\":[0,0,0,0,2380,2380,2380,2380],\"type\":\"mesh3d\"},{\"mode\":\"markers\",\"x\":[0],\"y\":[0],\"z\":[0],\"type\":\"scatter3d\"},{\"color\":\"#60d604\",\"flatshading\":true,\"hovertext\":\"box 54\",\"i\":[7,0,0,0,4,4,6,6,4,0,3,2],\"j\":[3,4,1,2,5,6,5,2,0,1,6,3],\"k\":[0,7,2,3,6,7,1,1,5,5,7,6],\"opacity\":1,\"showscale\":true,\"x\":[3471,3471,3604,3604,3471,3471,3604,3604],\"y\":[566,1132,1132,566,566,1132,1132,566],\"z\":[0,0,0,0,2380,2380,2380,2380],\"type\":\"mesh3d\"},{\"mode\":\"markers\",\"x\":[0],\"y\":[0],\"z\":[0],\"type\":\"scatter3d\"},{\"color\":\"#902642\",\"flatshading\":true,\"hovertext\":\"box 55\",\"i\":[7,0,0,0,4,4,6,6,4,0,3,2],\"j\":[3,4,1,2,5,6,5,2,0,1,6,3],\"k\":[0,7,2,3,6,7,1,1,5,5,7,6],\"opacity\":1,\"showscale\":true,\"x\":[3471,3471,3604,3604,3471,3471,3604,3604],\"y\":[1132,1698,1698,1132,1132,1698,1698,1132],\"z\":[0,0,0,0,2380,2380,2380,2380],\"type\":\"mesh3d\"},{\"mode\":\"markers\",\"x\":[0],\"y\":[0],\"z\":[0],\"type\":\"scatter3d\"},{\"color\":\"#a524ef\",\"flatshading\":true,\"hovertext\":\"box 56\",\"i\":[7,0,0,0,4,4,6,6,4,0,3,2],\"j\":[3,4,1,2,5,6,5,2,0,1,6,3],\"k\":[0,7,2,3,6,7,1,1,5,5,7,6],\"opacity\":1,\"showscale\":true,\"x\":[3471,3471,3604,3604,3471,3471,3604,3604],\"y\":[1698,2264,2264,1698,1698,2264,2264,1698],\"z\":[0,0,0,0,2380,2380,2380,2380],\"type\":\"mesh3d\"},{\"mode\":\"markers\",\"x\":[0],\"y\":[0],\"z\":[0],\"type\":\"scatter3d\"},{\"color\":\"#da03ed\",\"flatshading\":true,\"hovertext\":\"box 57\",\"i\":[7,0,0,0,4,4,6,6,4,0,3,2],\"j\":[3,4,1,2,5,6,5,2,0,1,6,3],\"k\":[0,7,2,3,6,7,1,1,5,5,7,6],\"opacity\":1,\"showscale\":true,\"x\":[3604,3604,3737,3737,3604,3604,3737,3737],\"y\":[0,566,566,0,0,566,566,0],\"z\":[0,0,0,0,2380,2380,2380,2380],\"type\":\"mesh3d\"},{\"mode\":\"markers\",\"x\":[0],\"y\":[0],\"z\":[0],\"type\":\"scatter3d\"},{\"color\":\"#d96c1f\",\"flatshading\":true,\"hovertext\":\"box 58\",\"i\":[7,0,0,0,4,4,6,6,4,0,3,2],\"j\":[3,4,1,2,5,6,5,2,0,1,6,3],\"k\":[0,7,2,3,6,7,1,1,5,5,7,6],\"opacity\":1,\"showscale\":true,\"x\":[3604,3604,3737,3737,3604,3604,3737,3737],\"y\":[566,1132,1132,566,566,1132,1132,566],\"z\":[0,0,0,0,1190,1190,1190,1190],\"type\":\"mesh3d\"},{\"mode\":\"markers\",\"x\":[0],\"y\":[0],\"z\":[0],\"type\":\"scatter3d\"},{\"color\":\"#667c2f\",\"flatshading\":true,\"hovertext\":\"box 59\",\"i\":[7,0,0,0,4,4,6,6,4,0,3,2],\"j\":[3,4,1,2,5,6,5,2,0,1,6,3],\"k\":[0,7,2,3,6,7,1,1,5,5,7,6],\"opacity\":1,\"showscale\":true,\"x\":[3737,3737,4252,4252,3737,3737,4252,4252],\"y\":[0,533,533,0,0,533,533,0],\"z\":[0,0,0,0,2150,2150,2150,2150],\"type\":\"mesh3d\"},{\"mode\":\"markers\",\"x\":[0],\"y\":[0],\"z\":[0],\"type\":\"scatter3d\"},{\"color\":\"#29af3e\",\"flatshading\":true,\"hovertext\":\"box 60\",\"i\":[7,0,0,0,4,4,6,6,4,0,3,2],\"j\":[3,4,1,2,5,6,5,2,0,1,6,3],\"k\":[0,7,2,3,6,7,1,1,5,5,7,6],\"opacity\":1,\"showscale\":true,\"x\":[3737,3737,4252,4252,3737,3737,4252,4252],\"y\":[533,1066,1066,533,533,1066,1066,533],\"z\":[0,0,0,0,2150,2150,2150,2150],\"type\":\"mesh3d\"},{\"mode\":\"markers\",\"x\":[0],\"y\":[0],\"z\":[0],\"type\":\"scatter3d\"},{\"color\":\"#91c6e0\",\"flatshading\":true,\"hovertext\":\"box 61\",\"i\":[7,0,0,0,4,4,6,6,4,0,3,2],\"j\":[3,4,1,2,5,6,5,2,0,1,6,3],\"k\":[0,7,2,3,6,7,1,1,5,5,7,6],\"opacity\":1,\"showscale\":true,\"x\":[3737,3737,4252,4252,3737,3737,4252,4252],\"y\":[1066,1599,1599,1066,1066,1599,1599,1066],\"z\":[0,0,0,0,2150,2150,2150,2150],\"type\":\"mesh3d\"},{\"mode\":\"markers\",\"x\":[0],\"y\":[0],\"z\":[0],\"type\":\"scatter3d\"},{\"color\":\"#0fe129\",\"flatshading\":true,\"hovertext\":\"box 62\",\"i\":[7,0,0,0,4,4,6,6,4,0,3,2],\"j\":[3,4,1,2,5,6,5,2,0,1,6,3],\"k\":[0,7,2,3,6,7,1,1,5,5,7,6],\"opacity\":1,\"showscale\":true,\"x\":[3737,3737,4252,4252,3737,3737,4252,4252],\"y\":[1599,2132,2132,1599,1599,2132,2132,1599],\"z\":[0,0,0,0,2150,2150,2150,2150],\"type\":\"mesh3d\"},{\"mode\":\"markers\",\"x\":[0],\"y\":[0],\"z\":[0],\"type\":\"scatter3d\"},{\"color\":\"#921e6a\",\"flatshading\":true,\"hovertext\":\"box 63\",\"i\":[7,0,0,0,4,4,6,6,4,0,3,2],\"j\":[3,4,1,2,5,6,5,2,0,1,6,3],\"k\":[0,7,2,3,6,7,1,1,5,5,7,6],\"opacity\":1,\"showscale\":true,\"x\":[4252,4252,4767,4767,4252,4252,4767,4767],\"y\":[0,533,533,0,0,533,533,0],\"z\":[0,0,0,0,2150,2150,2150,2150],\"type\":\"mesh3d\"},{\"mode\":\"markers\",\"x\":[0],\"y\":[0],\"z\":[0],\"type\":\"scatter3d\"},{\"color\":\"#d88b45\",\"flatshading\":true,\"hovertext\":\"box 64\",\"i\":[7,0,0,0,4,4,6,6,4,0,3,2],\"j\":[3,4,1,2,5,6,5,2,0,1,6,3],\"k\":[0,7,2,3,6,7,1,1,5,5,7,6],\"opacity\":1,\"showscale\":true,\"x\":[4252,4252,4767,4767,4252,4252,4767,4767],\"y\":[533,1066,1066,533,533,1066,1066,533],\"z\":[0,0,0,0,2150,2150,2150,2150],\"type\":\"mesh3d\"},{\"mode\":\"markers\",\"x\":[0],\"y\":[0],\"z\":[0],\"type\":\"scatter3d\"},{\"color\":\"#c0cfd3\",\"flatshading\":true,\"hovertext\":\"box 65\",\"i\":[7,0,0,0,4,4,6,6,4,0,3,2],\"j\":[3,4,1,2,5,6,5,2,0,1,6,3],\"k\":[0,7,2,3,6,7,1,1,5,5,7,6],\"opacity\":1,\"showscale\":true,\"x\":[4252,4252,4767,4767,4252,4252,4767,4767],\"y\":[1066,1599,1599,1066,1066,1599,1599,1066],\"z\":[0,0,0,0,2150,2150,2150,2150],\"type\":\"mesh3d\"},{\"mode\":\"markers\",\"x\":[0],\"y\":[0],\"z\":[0],\"type\":\"scatter3d\"},{\"color\":\"#44ac33\",\"flatshading\":true,\"hovertext\":\"box 66\",\"i\":[7,0,0,0,4,4,6,6,4,0,3,2],\"j\":[3,4,1,2,5,6,5,2,0,1,6,3],\"k\":[0,7,2,3,6,7,1,1,5,5,7,6],\"opacity\":1,\"showscale\":true,\"x\":[4252,4252,4767,4767,4252,4252,4767,4767],\"y\":[1599,2132,2132,1599,1599,2132,2132,1599],\"z\":[0,0,0,0,2150,2150,2150,2150],\"type\":\"mesh3d\"},{\"mode\":\"markers\",\"x\":[0],\"y\":[0],\"z\":[0],\"type\":\"scatter3d\"},{\"color\":\"#907dca\",\"flatshading\":true,\"hovertext\":\"box 67\",\"i\":[7,0,0,0,4,4,6,6,4,0,3,2],\"j\":[3,4,1,2,5,6,5,2,0,1,6,3],\"k\":[0,7,2,3,6,7,1,1,5,5,7,6],\"opacity\":1,\"showscale\":true,\"x\":[4767,4767,5282,5282,4767,4767,5282,5282],\"y\":[0,533,533,0,0,533,533,0],\"z\":[0,0,0,0,2150,2150,2150,2150],\"type\":\"mesh3d\"},{\"mode\":\"markers\",\"x\":[0],\"y\":[0],\"z\":[0],\"type\":\"scatter3d\"},{\"color\":\"#19d269\",\"flatshading\":true,\"hovertext\":\"box 68\",\"i\":[7,0,0,0,4,4,6,6,4,0,3,2],\"j\":[3,4,1,2,5,6,5,2,0,1,6,3],\"k\":[0,7,2,3,6,7,1,1,5,5,7,6],\"opacity\":1,\"showscale\":true,\"x\":[4767,4767,5282,5282,4767,4767,5282,5282],\"y\":[533,1066,1066,533,533,1066,1066,533],\"z\":[0,0,0,0,2150,2150,2150,2150],\"type\":\"mesh3d\"},{\"mode\":\"markers\",\"x\":[0],\"y\":[0],\"z\":[0],\"type\":\"scatter3d\"},{\"color\":\"#dd9656\",\"flatshading\":true,\"hovertext\":\"box 69\",\"i\":[7,0,0,0,4,4,6,6,4,0,3,2],\"j\":[3,4,1,2,5,6,5,2,0,1,6,3],\"k\":[0,7,2,3,6,7,1,1,5,5,7,6],\"opacity\":1,\"showscale\":true,\"x\":[4767,4767,5282,5282,4767,4767,5282,5282],\"y\":[1066,1599,1599,1066,1066,1599,1599,1066],\"z\":[0,0,0,0,2150,2150,2150,2150],\"type\":\"mesh3d\"},{\"mode\":\"markers\",\"x\":[0],\"y\":[0],\"z\":[0],\"type\":\"scatter3d\"},{\"color\":\"#d97b05\",\"flatshading\":true,\"hovertext\":\"box 70\",\"i\":[7,0,0,0,4,4,6,6,4,0,3,2],\"j\":[3,4,1,2,5,6,5,2,0,1,6,3],\"k\":[0,7,2,3,6,7,1,1,5,5,7,6],\"opacity\":1,\"showscale\":true,\"x\":[4767,4767,5282,5282,4767,4767,5282,5282],\"y\":[1599,2132,2132,1599,1599,2132,2132,1599],\"z\":[0,0,0,0,2150,2150,2150,2150],\"type\":\"mesh3d\"},{\"mode\":\"markers\",\"x\":[0],\"y\":[0],\"z\":[0],\"type\":\"scatter3d\"},{\"color\":\"#3c4e44\",\"flatshading\":true,\"hovertext\":\"box 71\",\"i\":[7,0,0,0,4,4,6,6,4,0,3,2],\"j\":[3,4,1,2,5,6,5,2,0,1,6,3],\"k\":[0,7,2,3,6,7,1,1,5,5,7,6],\"opacity\":1,\"showscale\":true,\"x\":[5282,5282,5797,5797,5282,5282,5797,5797],\"y\":[0,533,533,0,0,533,533,0],\"z\":[0,0,0,0,2150,2150,2150,2150],\"type\":\"mesh3d\"},{\"mode\":\"markers\",\"x\":[0],\"y\":[0],\"z\":[0],\"type\":\"scatter3d\"},{\"color\":\"#05ecca\",\"flatshading\":true,\"hovertext\":\"box 72\",\"i\":[7,0,0,0,4,4,6,6,4,0,3,2],\"j\":[3,4,1,2,5,6,5,2,0,1,6,3],\"k\":[0,7,2,3,6,7,1,1,5,5,7,6],\"opacity\":1,\"showscale\":true,\"x\":[5282,5282,5797,5797,5282,5282,5797,5797],\"y\":[533,1066,1066,533,533,1066,1066,533],\"z\":[0,0,0,0,2150,2150,2150,2150],\"type\":\"mesh3d\"},{\"mode\":\"markers\",\"x\":[0],\"y\":[0],\"z\":[0],\"type\":\"scatter3d\"},{\"color\":\"#f3dd3c\",\"flatshading\":true,\"hovertext\":\"box 73\",\"i\":[7,0,0,0,4,4,6,6,4,0,3,2],\"j\":[3,4,1,2,5,6,5,2,0,1,6,3],\"k\":[0,7,2,3,6,7,1,1,5,5,7,6],\"opacity\":1,\"showscale\":true,\"x\":[5282,5282,5797,5797,5282,5282,5797,5797],\"y\":[1066,1599,1599,1066,1066,1599,1599,1066],\"z\":[0,0,0,0,2150,2150,2150,2150],\"type\":\"mesh3d\"},{\"mode\":\"markers\",\"x\":[0],\"y\":[0],\"z\":[0],\"type\":\"scatter3d\"},{\"color\":\"#b56054\",\"flatshading\":true,\"hovertext\":\"box 74\",\"i\":[7,0,0,0,4,4,6,6,4,0,3,2],\"j\":[3,4,1,2,5,6,5,2,0,1,6,3],\"k\":[0,7,2,3,6,7,1,1,5,5,7,6],\"opacity\":1,\"showscale\":true,\"x\":[5282,5282,5797,5797,5282,5282,5797,5797],\"y\":[1599,2132,2132,1599,1599,2132,2132,1599],\"z\":[0,0,0,0,2150,2150,2150,2150],\"type\":\"mesh3d\"},{\"mode\":\"markers\",\"x\":[0],\"y\":[0],\"z\":[0],\"type\":\"scatter3d\"}],                        {\"template\":{\"data\":{\"bar\":[{\"error_x\":{\"color\":\"#2a3f5f\"},\"error_y\":{\"color\":\"#2a3f5f\"},\"marker\":{\"line\":{\"color\":\"#E5ECF6\",\"width\":0.5},\"pattern\":{\"fillmode\":\"overlay\",\"size\":10,\"solidity\":0.2}},\"type\":\"bar\"}],\"barpolar\":[{\"marker\":{\"line\":{\"color\":\"#E5ECF6\",\"width\":0.5},\"pattern\":{\"fillmode\":\"overlay\",\"size\":10,\"solidity\":0.2}},\"type\":\"barpolar\"}],\"carpet\":[{\"aaxis\":{\"endlinecolor\":\"#2a3f5f\",\"gridcolor\":\"white\",\"linecolor\":\"white\",\"minorgridcolor\":\"white\",\"startlinecolor\":\"#2a3f5f\"},\"baxis\":{\"endlinecolor\":\"#2a3f5f\",\"gridcolor\":\"white\",\"linecolor\":\"white\",\"minorgridcolor\":\"white\",\"startlinecolor\":\"#2a3f5f\"},\"type\":\"carpet\"}],\"choropleth\":[{\"colorbar\":{\"outlinewidth\":0,\"ticks\":\"\"},\"type\":\"choropleth\"}],\"contour\":[{\"colorbar\":{\"outlinewidth\":0,\"ticks\":\"\"},\"colorscale\":[[0.0,\"#0d0887\"],[0.1111111111111111,\"#46039f\"],[0.2222222222222222,\"#7201a8\"],[0.3333333333333333,\"#9c179e\"],[0.4444444444444444,\"#bd3786\"],[0.5555555555555556,\"#d8576b\"],[0.6666666666666666,\"#ed7953\"],[0.7777777777777778,\"#fb9f3a\"],[0.8888888888888888,\"#fdca26\"],[1.0,\"#f0f921\"]],\"type\":\"contour\"}],\"contourcarpet\":[{\"colorbar\":{\"outlinewidth\":0,\"ticks\":\"\"},\"type\":\"contourcarpet\"}],\"heatmap\":[{\"colorbar\":{\"outlinewidth\":0,\"ticks\":\"\"},\"colorscale\":[[0.0,\"#0d0887\"],[0.1111111111111111,\"#46039f\"],[0.2222222222222222,\"#7201a8\"],[0.3333333333333333,\"#9c179e\"],[0.4444444444444444,\"#bd3786\"],[0.5555555555555556,\"#d8576b\"],[0.6666666666666666,\"#ed7953\"],[0.7777777777777778,\"#fb9f3a\"],[0.8888888888888888,\"#fdca26\"],[1.0,\"#f0f921\"]],\"type\":\"heatmap\"}],\"heatmapgl\":[{\"colorbar\":{\"outlinewidth\":0,\"ticks\":\"\"},\"colorscale\":[[0.0,\"#0d0887\"],[0.1111111111111111,\"#46039f\"],[0.2222222222222222,\"#7201a8\"],[0.3333333333333333,\"#9c179e\"],[0.4444444444444444,\"#bd3786\"],[0.5555555555555556,\"#d8576b\"],[0.6666666666666666,\"#ed7953\"],[0.7777777777777778,\"#fb9f3a\"],[0.8888888888888888,\"#fdca26\"],[1.0,\"#f0f921\"]],\"type\":\"heatmapgl\"}],\"histogram\":[{\"marker\":{\"pattern\":{\"fillmode\":\"overlay\",\"size\":10,\"solidity\":0.2}},\"type\":\"histogram\"}],\"histogram2d\":[{\"colorbar\":{\"outlinewidth\":0,\"ticks\":\"\"},\"colorscale\":[[0.0,\"#0d0887\"],[0.1111111111111111,\"#46039f\"],[0.2222222222222222,\"#7201a8\"],[0.3333333333333333,\"#9c179e\"],[0.4444444444444444,\"#bd3786\"],[0.5555555555555556,\"#d8576b\"],[0.6666666666666666,\"#ed7953\"],[0.7777777777777778,\"#fb9f3a\"],[0.8888888888888888,\"#fdca26\"],[1.0,\"#f0f921\"]],\"type\":\"histogram2d\"}],\"histogram2dcontour\":[{\"colorbar\":{\"outlinewidth\":0,\"ticks\":\"\"},\"colorscale\":[[0.0,\"#0d0887\"],[0.1111111111111111,\"#46039f\"],[0.2222222222222222,\"#7201a8\"],[0.3333333333333333,\"#9c179e\"],[0.4444444444444444,\"#bd3786\"],[0.5555555555555556,\"#d8576b\"],[0.6666666666666666,\"#ed7953\"],[0.7777777777777778,\"#fb9f3a\"],[0.8888888888888888,\"#fdca26\"],[1.0,\"#f0f921\"]],\"type\":\"histogram2dcontour\"}],\"mesh3d\":[{\"colorbar\":{\"outlinewidth\":0,\"ticks\":\"\"},\"type\":\"mesh3d\"}],\"parcoords\":[{\"line\":{\"colorbar\":{\"outlinewidth\":0,\"ticks\":\"\"}},\"type\":\"parcoords\"}],\"pie\":[{\"automargin\":true,\"type\":\"pie\"}],\"scatter\":[{\"marker\":{\"colorbar\":{\"outlinewidth\":0,\"ticks\":\"\"}},\"type\":\"scatter\"}],\"scatter3d\":[{\"line\":{\"colorbar\":{\"outlinewidth\":0,\"ticks\":\"\"}},\"marker\":{\"colorbar\":{\"outlinewidth\":0,\"ticks\":\"\"}},\"type\":\"scatter3d\"}],\"scattercarpet\":[{\"marker\":{\"colorbar\":{\"outlinewidth\":0,\"ticks\":\"\"}},\"type\":\"scattercarpet\"}],\"scattergeo\":[{\"marker\":{\"colorbar\":{\"outlinewidth\":0,\"ticks\":\"\"}},\"type\":\"scattergeo\"}],\"scattergl\":[{\"marker\":{\"colorbar\":{\"outlinewidth\":0,\"ticks\":\"\"}},\"type\":\"scattergl\"}],\"scattermapbox\":[{\"marker\":{\"colorbar\":{\"outlinewidth\":0,\"ticks\":\"\"}},\"type\":\"scattermapbox\"}],\"scatterpolar\":[{\"marker\":{\"colorbar\":{\"outlinewidth\":0,\"ticks\":\"\"}},\"type\":\"scatterpolar\"}],\"scatterpolargl\":[{\"marker\":{\"colorbar\":{\"outlinewidth\":0,\"ticks\":\"\"}},\"type\":\"scatterpolargl\"}],\"scatterternary\":[{\"marker\":{\"colorbar\":{\"outlinewidth\":0,\"ticks\":\"\"}},\"type\":\"scatterternary\"}],\"surface\":[{\"colorbar\":{\"outlinewidth\":0,\"ticks\":\"\"},\"colorscale\":[[0.0,\"#0d0887\"],[0.1111111111111111,\"#46039f\"],[0.2222222222222222,\"#7201a8\"],[0.3333333333333333,\"#9c179e\"],[0.4444444444444444,\"#bd3786\"],[0.5555555555555556,\"#d8576b\"],[0.6666666666666666,\"#ed7953\"],[0.7777777777777778,\"#fb9f3a\"],[0.8888888888888888,\"#fdca26\"],[1.0,\"#f0f921\"]],\"type\":\"surface\"}],\"table\":[{\"cells\":{\"fill\":{\"color\":\"#EBF0F8\"},\"line\":{\"color\":\"white\"}},\"header\":{\"fill\":{\"color\":\"#C8D4E3\"},\"line\":{\"color\":\"white\"}},\"type\":\"table\"}]},\"layout\":{\"annotationdefaults\":{\"arrowcolor\":\"#2a3f5f\",\"arrowhead\":0,\"arrowwidth\":1},\"autotypenumbers\":\"strict\",\"coloraxis\":{\"colorbar\":{\"outlinewidth\":0,\"ticks\":\"\"}},\"colorscale\":{\"diverging\":[[0,\"#8e0152\"],[0.1,\"#c51b7d\"],[0.2,\"#de77ae\"],[0.3,\"#f1b6da\"],[0.4,\"#fde0ef\"],[0.5,\"#f7f7f7\"],[0.6,\"#e6f5d0\"],[0.7,\"#b8e186\"],[0.8,\"#7fbc41\"],[0.9,\"#4d9221\"],[1,\"#276419\"]],\"sequential\":[[0.0,\"#0d0887\"],[0.1111111111111111,\"#46039f\"],[0.2222222222222222,\"#7201a8\"],[0.3333333333333333,\"#9c179e\"],[0.4444444444444444,\"#bd3786\"],[0.5555555555555556,\"#d8576b\"],[0.6666666666666666,\"#ed7953\"],[0.7777777777777778,\"#fb9f3a\"],[0.8888888888888888,\"#fdca26\"],[1.0,\"#f0f921\"]],\"sequentialminus\":[[0.0,\"#0d0887\"],[0.1111111111111111,\"#46039f\"],[0.2222222222222222,\"#7201a8\"],[0.3333333333333333,\"#9c179e\"],[0.4444444444444444,\"#bd3786\"],[0.5555555555555556,\"#d8576b\"],[0.6666666666666666,\"#ed7953\"],[0.7777777777777778,\"#fb9f3a\"],[0.8888888888888888,\"#fdca26\"],[1.0,\"#f0f921\"]]},\"colorway\":[\"#636efa\",\"#EF553B\",\"#00cc96\",\"#ab63fa\",\"#FFA15A\",\"#19d3f3\",\"#FF6692\",\"#B6E880\",\"#FF97FF\",\"#FECB52\"],\"font\":{\"color\":\"#2a3f5f\"},\"geo\":{\"bgcolor\":\"white\",\"lakecolor\":\"white\",\"landcolor\":\"#E5ECF6\",\"showlakes\":true,\"showland\":true,\"subunitcolor\":\"white\"},\"hoverlabel\":{\"align\":\"left\"},\"hovermode\":\"closest\",\"mapbox\":{\"style\":\"light\"},\"paper_bgcolor\":\"white\",\"plot_bgcolor\":\"#E5ECF6\",\"polar\":{\"angularaxis\":{\"gridcolor\":\"white\",\"linecolor\":\"white\",\"ticks\":\"\"},\"bgcolor\":\"#E5ECF6\",\"radialaxis\":{\"gridcolor\":\"white\",\"linecolor\":\"white\",\"ticks\":\"\"}},\"scene\":{\"xaxis\":{\"backgroundcolor\":\"#E5ECF6\",\"gridcolor\":\"white\",\"gridwidth\":2,\"linecolor\":\"white\",\"showbackground\":true,\"ticks\":\"\",\"zerolinecolor\":\"white\"},\"yaxis\":{\"backgroundcolor\":\"#E5ECF6\",\"gridcolor\":\"white\",\"gridwidth\":2,\"linecolor\":\"white\",\"showbackground\":true,\"ticks\":\"\",\"zerolinecolor\":\"white\"},\"zaxis\":{\"backgroundcolor\":\"#E5ECF6\",\"gridcolor\":\"white\",\"gridwidth\":2,\"linecolor\":\"white\",\"showbackground\":true,\"ticks\":\"\",\"zerolinecolor\":\"white\"}},\"shapedefaults\":{\"line\":{\"color\":\"#2a3f5f\"}},\"ternary\":{\"aaxis\":{\"gridcolor\":\"white\",\"linecolor\":\"white\",\"ticks\":\"\"},\"baxis\":{\"gridcolor\":\"white\",\"linecolor\":\"white\",\"ticks\":\"\"},\"bgcolor\":\"#E5ECF6\",\"caxis\":{\"gridcolor\":\"white\",\"linecolor\":\"white\",\"ticks\":\"\"}},\"title\":{\"x\":0.05},\"xaxis\":{\"automargin\":true,\"gridcolor\":\"white\",\"linecolor\":\"white\",\"ticks\":\"\",\"title\":{\"standoff\":15},\"zerolinecolor\":\"white\",\"zerolinewidth\":2},\"yaxis\":{\"automargin\":true,\"gridcolor\":\"white\",\"linecolor\":\"white\",\"ticks\":\"\",\"title\":{\"standoff\":15},\"zerolinecolor\":\"white\",\"zerolinewidth\":2}}},\"scene\":{\"camera\":{\"eye\":{\"x\":-2,\"y\":-2,\"z\":-1}},\"aspectmode\":\"data\"},\"autosize\":false,\"width\":1300,\"height\":900},                        {\"responsive\": true}                    ).then(function(){\n",
              "                            \n",
              "var gd = document.getElementById('d34ceb8e-7ac5-4934-bb74-32c3994030f4');\n",
              "var x = new MutationObserver(function (mutations, observer) {{\n",
              "        var display = window.getComputedStyle(gd).display;\n",
              "        if (!display || display === 'none') {{\n",
              "            console.log([gd, 'removed!']);\n",
              "            Plotly.purge(gd);\n",
              "            observer.disconnect();\n",
              "        }}\n",
              "}});\n",
              "\n",
              "// Listen for the removal of the full notebook cells\n",
              "var notebookContainer = gd.closest('#notebook-container');\n",
              "if (notebookContainer) {{\n",
              "    x.observe(notebookContainer, {childList: true});\n",
              "}}\n",
              "\n",
              "// Listen for the clearing of the current output cell\n",
              "var outputEl = gd.closest('.output');\n",
              "if (outputEl) {{\n",
              "    x.observe(outputEl, {childList: true});\n",
              "}}\n",
              "\n",
              "                        })                };                            </script>        </div>\n",
              "</body>\n",
              "</html>"
            ]
          },
          "metadata": {}
        }
      ]
    },
    {
      "cell_type": "code",
      "source": [
        "mylist"
      ],
      "metadata": {
        "colab": {
          "base_uri": "https://localhost:8080/"
        },
        "id": "TntJ5NreHCse",
        "outputId": "bfb9fb3b-d70c-4628-b625-284d6eaf3646"
      },
      "execution_count": null,
      "outputs": [
        {
          "output_type": "execute_result",
          "data": {
            "text/plain": [
              "[[683, 569, 2296, 0, 0, 0],\n",
              " [683, 569, 2296, 0, 569, 0],\n",
              " [683, 569, 2296, 0, 1138, 0],\n",
              " [683, 569, 2296, 0, 1707, 0],\n",
              " [683, 569, 2296, 683, 0, 0],\n",
              " [683, 569, 2296, 683, 569, 0],\n",
              " [683, 569, 2296, 683, 1138, 0],\n",
              " [683, 569, 2296, 683, 1707, 0],\n",
              " [683, 569, 2296, 1366, 0, 0],\n",
              " [683, 569, 2296, 1366, 569, 0],\n",
              " [683, 569, 2296, 1366, 1138, 0],\n",
              " [683, 569, 2296, 1366, 1707, 0],\n",
              " [683, 569, 2296, 2049, 0, 0],\n",
              " [683, 569, 2296, 2049, 569, 0],\n",
              " [683, 569, 656, 2049, 1138, 0],\n",
              " [512, 606, 2378, 2049, 1707, 0],\n",
              " [606, 512, 1682, 2049, 1138, 656],\n",
              " [606, 512, 58, 2049, 0, 2296],\n",
              " [606, 512, 58, 2049, 512, 2296],\n",
              " [512, 606, 58, 0, 0, 2296],\n",
              " [512, 606, 58, 0, 606, 2296],\n",
              " [512, 606, 58, 0, 1212, 2296],\n",
              " [512, 606, 58, 512, 0, 2296],\n",
              " [512, 606, 58, 512, 606, 2296],\n",
              " [512, 606, 58, 512, 1212, 2296],\n",
              " [512, 606, 58, 1024, 0, 2296],\n",
              " [512, 606, 58, 1024, 606, 2296],\n",
              " [512, 606, 58, 1024, 1212, 2296],\n",
              " [512, 606, 58, 1536, 0, 2296],\n",
              " [512, 606, 58, 1536, 606, 2296],\n",
              " [512, 606, 58, 1536, 1212, 2296],\n",
              " [606, 512, 928, 2732, 0, 0],\n",
              " [133, 566, 2380, 2561, 1707, 0],\n",
              " [595, 133, 2264, 2732, 512, 0],\n",
              " [595, 133, 2264, 2732, 645, 0],\n",
              " [595, 133, 2264, 2732, 778, 0],\n",
              " [595, 133, 2264, 2732, 911, 0],\n",
              " [595, 133, 2264, 2732, 1044, 0],\n",
              " [595, 133, 2264, 2732, 1177, 0],\n",
              " [595, 133, 2264, 2732, 1310, 0],\n",
              " [595, 133, 2264, 2732, 1443, 0],\n",
              " [595, 133, 2264, 2732, 1576, 0],\n",
              " [595, 133, 2264, 2732, 1709, 0],\n",
              " [595, 133, 2264, 2732, 1842, 0],\n",
              " [595, 133, 2264, 2732, 1975, 0],\n",
              " [595, 133, 2264, 2732, 2108, 0],\n",
              " [595, 133, 1132, 2732, 0, 928],\n",
              " [595, 133, 1132, 2732, 133, 928],\n",
              " [595, 133, 1132, 2732, 266, 928],\n",
              " [133, 566, 2380, 3338, 0, 0],\n",
              " [133, 566, 2380, 3338, 566, 0],\n",
              " [133, 566, 2380, 3338, 1132, 0],\n",
              " [133, 566, 2380, 3338, 1698, 0],\n",
              " [133, 566, 2380, 3471, 0, 0],\n",
              " [133, 566, 2380, 3471, 566, 0],\n",
              " [133, 566, 2380, 3471, 1132, 0],\n",
              " [133, 566, 2380, 3471, 1698, 0],\n",
              " [133, 566, 2380, 3604, 0, 0],\n",
              " [133, 566, 1190, 3604, 566, 0],\n",
              " [515, 533, 2150, 3737, 0, 0],\n",
              " [515, 533, 2150, 3737, 533, 0],\n",
              " [515, 533, 2150, 3737, 1066, 0],\n",
              " [515, 533, 2150, 3737, 1599, 0],\n",
              " [515, 533, 2150, 4252, 0, 0],\n",
              " [515, 533, 2150, 4252, 533, 0],\n",
              " [515, 533, 2150, 4252, 1066, 0],\n",
              " [515, 533, 2150, 4252, 1599, 0],\n",
              " [515, 533, 2150, 4767, 0, 0],\n",
              " [515, 533, 2150, 4767, 533, 0],\n",
              " [515, 533, 2150, 4767, 1066, 0],\n",
              " [515, 533, 2150, 4767, 1599, 0],\n",
              " [515, 533, 2150, 5282, 0, 0],\n",
              " [515, 533, 2150, 5282, 533, 0],\n",
              " [515, 533, 2150, 5282, 1066, 0],\n",
              " [515, 533, 2150, 5282, 1599, 0]]"
            ]
          },
          "metadata": {},
          "execution_count": 63
        }
      ]
    }
  ]
}